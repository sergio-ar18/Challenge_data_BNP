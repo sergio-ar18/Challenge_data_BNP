{
  "cells": [
    {
      "cell_type": "code",
      "execution_count": 25,
      "metadata": {
        "id": "DLzDfVJtXKa9"
      },
      "outputs": [],
      "source": [
        "import pandas as pd\n",
        "import numpy as np"
      ]
    },
    {
      "cell_type": "code",
      "source": [
        "from google.colab import drive\n",
        "drive.mount('/content/drive')"
      ],
      "metadata": {
        "id": "2iopm2wJXP0n",
        "colab": {
          "base_uri": "https://localhost:8080/"
        },
        "outputId": "3cadeff6-accf-4e40-9a32-13f924e86cbb"
      },
      "execution_count": 26,
      "outputs": [
        {
          "output_type": "stream",
          "name": "stdout",
          "text": [
            "Drive already mounted at /content/drive; to attempt to forcibly remount, call drive.mount(\"/content/drive\", force_remount=True).\n"
          ]
        }
      ]
    },
    {
      "cell_type": "code",
      "execution_count": 27,
      "metadata": {
        "id": "VFfJTYnGXKbA",
        "outputId": "3262fac5-128c-4b55-d800-1823d2385953",
        "colab": {
          "base_uri": "https://localhost:8080/"
        }
      },
      "outputs": [
        {
          "output_type": "stream",
          "name": "stderr",
          "text": [
            "<ipython-input-27-35fd0dae2bd3>:1: DtypeWarning: Columns (21,22,23,24,69,70,71,72,93,94,95,96,97,104,105,106,107,108,109,110,111,112,113,114,115,116,117,118,119,120) have mixed types. Specify dtype option on import or set low_memory=False.\n",
            "  dataframe = pd.read_csv('/content/drive/MyDrive/Colab Notebooks/Challenge_data_BNP/X_train_G3tdtEn.csv')\n",
            "<ipython-input-27-35fd0dae2bd3>:2: DtypeWarning: Columns (20,21,22,23,24,68,69,70,71,72,92,93,94,95,96,97,106,107,108,109,110,111,112,113,114,115,116,117,118) have mixed types. Specify dtype option on import or set low_memory=False.\n",
            "  test_Dataframe = pd.read_csv('/content/drive/MyDrive/Colab Notebooks/Challenge_data_BNP/X_test_8skS2ey.csv')\n"
          ]
        }
      ],
      "source": [
        "dataframe = pd.read_csv('/content/drive/MyDrive/Colab Notebooks/Challenge_data_BNP/X_train_G3tdtEn.csv')\n",
        "test_Dataframe = pd.read_csv('/content/drive/MyDrive/Colab Notebooks/Challenge_data_BNP/X_test_8skS2ey.csv')\n",
        "data_Y = pd.read_csv('/content/drive/MyDrive/Colab Notebooks/Challenge_data_BNP/Y_train_2_XPXJDyy.csv')\n",
        "\n",
        "df = dataframe.copy()\n",
        "\n",
        "## change of the categorical data to numbers\n",
        "\n",
        "list_uniqueLabel = []\n",
        "list_col_object = []\n",
        "list_dic_map = []\n",
        "# Loop for that assign a each unique categorical value a number and after it reeplace the categorical value for this number\n",
        "for col in df.columns:\n",
        "    if df[col].dtypes == object:\n",
        "        list_col_object.append(col)\n",
        "\n",
        "for count in range(0,4):\n",
        "\n",
        "    concate = pd.concat([dataframe[colum] for colum in list_col_object[(count*24):((count+1)*24)]])\n",
        "    concate = pd.concat([test_Dataframe[columt] for columt in list_col_object[(count*24):((count+1)*24)]])\n",
        "    concate = pd.concat([pd.Series([np.nan]),concate])\n",
        "\n",
        "    list_uniqueLabel.append(concate.unique())\n",
        "\n",
        "    # dictionary\n",
        "    dic_map = {label : index for index, label in enumerate(list_uniqueLabel[-1])}\n",
        "\n",
        "    # Replace the values in dataframe\n",
        "\n",
        "    for colob in range(0,24):\n",
        "        df[list_col_object[colob+count*24]] = df[list_col_object[colob+count*24]].map(dic_map)\n",
        "\n",
        "    list_dic_map.append(dic_map.copy())\n",
        "    dic_map.clear()\n"
      ]
    },
    {
      "cell_type": "code",
      "execution_count": 28,
      "metadata": {
        "id": "kmBmWjzZXKbC",
        "outputId": "2ff189e7-bad3-42af-babf-c4cd4000eea4",
        "colab": {
          "base_uri": "https://localhost:8080/"
        }
      },
      "outputs": [
        {
          "output_type": "stream",
          "name": "stdout",
          "text": [
            "True\n"
          ]
        }
      ],
      "source": [
        "# Reemplace the 0 in the converted columns to his true value NaN\n",
        "df[list_col_object] = df[list_col_object].replace(0,np.nan)\n",
        "\n",
        "# Verification exact coincidence\n",
        "\n",
        "exact_coincidence = (df['ID'] == data_Y['ID']).all()\n",
        "print(exact_coincidence)\n",
        "\n",
        "# we put out the columns that not contribute to the prediction\n",
        "\n",
        "df = df.drop('ID',axis=1)\n",
        "data_Y = data_Y.drop(['index','ID'], axis=1)"
      ]
    },
    {
      "cell_type": "code",
      "execution_count": 29,
      "metadata": {
        "id": "i90Rhe9IXKbD",
        "outputId": "a95395d1-ca9e-4570-a0ff-cf936a63394b",
        "colab": {
          "base_uri": "https://localhost:8080/"
        }
      },
      "outputs": [
        {
          "output_type": "stream",
          "name": "stdout",
          "text": [
            "(92790, 145)\n",
            "(92790, 1)\n",
            "12415322\n"
          ]
        }
      ],
      "source": [
        "dataX = np.array(df)\n",
        "dataY = np.array(data_Y)\n",
        "\n",
        "print(dataX.shape)\n",
        "print(dataY.shape)\n",
        "\n",
        "print(np.sum(np.isnan(dataX)))"
      ]
    },
    {
      "cell_type": "code",
      "execution_count": 30,
      "metadata": {
        "id": "0sWoSs4qXKbD"
      },
      "outputs": [],
      "source": [
        "from sklearn.model_selection import train_test_split\n",
        "from sklearn.preprocessing import MinMaxScaler\n",
        "from sklearn.impute import SimpleImputer\n",
        "\n",
        "# Remplace the NaN values\n",
        "\n",
        "constant_imputer = SimpleImputer(strategy='constant')\n",
        "dataX_imp = constant_imputer.fit_transform(dataX)\n",
        "\n",
        "# normalizacion\n",
        "\n",
        "scaler = MinMaxScaler(feature_range=(0, 1))\n",
        "dataX_n = scaler.fit_transform(dataX_imp)\n",
        "\n",
        "# Split of the data for validation set\n",
        "\n",
        "# training_input_t,val_input,training_output_t,val_output = train_test_split(dataX_n, data_Y, test_size=0.2)\n",
        "\n",
        "training_input_t,training_output_t = dataX_n,data_Y\n",
        "\n",
        "training_input_t,test_input,training_output_t,test_output = train_test_split(training_input_t,training_output_t,test_size=0.1)\n"
      ]
    },
    {
      "cell_type": "code",
      "execution_count": 31,
      "metadata": {
        "id": "xiKTL0kkXKbE",
        "outputId": "32dae66a-55da-475e-9781-57d95c16e0ed",
        "colab": {
          "base_uri": "https://localhost:8080/"
        }
      },
      "outputs": [
        {
          "output_type": "stream",
          "name": "stdout",
          "text": [
            "class distribution before SMOTE\n",
            "0    82309\n",
            "1     1202\n",
            "Name: fraud_flag, dtype: int64\n",
            "\n",
            "\n",
            "class distribution after SMOTE\n",
            "0    82309\n",
            "1    12020\n",
            "Name: fraud_flag, dtype: int64\n",
            "(83511, 145)\n",
            "(94329, 145)\n"
          ]
        }
      ],
      "source": [
        "# BORDERLINE SMOTE technique (evolution SMOTE)\n",
        "\n",
        "from imblearn.over_sampling import BorderlineSMOTE\n",
        "\n",
        "# Return to dataframe\n",
        "\n",
        "df_train = pd.DataFrame(training_input_t,columns=df.columns)\n",
        "datY_train = pd.DataFrame(training_output_t,columns=data_Y.columns)\n",
        "\n",
        "# Aplication of SMOTE only in the training data (test is with the original values)\n",
        "\n",
        "count_minoritary_class = len(datY_train[datY_train['fraud_flag'] == 1])\n",
        "smote = BorderlineSMOTE(sampling_strategy={1:(10*count_minoritary_class)}, random_state=42) # the {1:4} means have the class with label 1, 4 times, so increase 3 values\n",
        "\n",
        "df_smote,data_y_smote = smote.fit_resample(df_train,datY_train)\n",
        "\n",
        "# Print number each class\n",
        "print('class distribution before SMOTE')\n",
        "print(datY_train['fraud_flag'].value_counts())\n",
        "print('\\n')\n",
        "print('class distribution after SMOTE')\n",
        "print(data_y_smote['fraud_flag'].value_counts())\n",
        "\n",
        "print(df_train.shape)\n",
        "print(df_smote.shape)\n",
        "\n",
        "# Conversion to array\n",
        "dataX_a = np.array(df_smote)\n",
        "dataY_a = np.array(data_y_smote)\n",
        "\n",
        "# Determination of training data\n",
        "training_input,training_output = dataX_a,dataY_a"
      ]
    },
    {
      "cell_type": "code",
      "execution_count": 32,
      "metadata": {
        "id": "29N170zzXKbF"
      },
      "outputs": [],
      "source": [
        "# from imblearn.under_sampling import RandomUnderSampler\n",
        "\n",
        "# # Aplication undersampling random\n",
        "\n",
        "# count_minoritary_class_u = len(data_y_smote[data_y_smote['fraud_flag'] == 1])\n",
        "# rus = RandomUnderSampler(sampling_strategy={0:2*count_minoritary_class_u}, random_state=42)\n",
        "# dataX_a,dataY_a = rus.fit_resample(df_smote, data_y_smote)\n",
        "\n",
        "# # Print number each class\n",
        "# print('class distribution before Undersampling')\n",
        "# print(data_y_smote['fraud_flag'].value_counts())\n",
        "# print('\\n')\n",
        "# print('class distribution after Undersampling')\n",
        "# print(dataY_a['fraud_flag'].value_counts())\n",
        "\n",
        "# dataX_a = np.array(dataX_a)\n",
        "# dataY_a = np.array(dataY_a)\n",
        "\n",
        "# # Determination of training data\n",
        "# training_input,training_output = dataX_a,dataY_a"
      ]
    },
    {
      "cell_type": "code",
      "execution_count": 33,
      "metadata": {
        "id": "Ro7EXtgmXKbG"
      },
      "outputs": [],
      "source": [
        "import tensorflow as tf\n",
        "\n",
        "# Function to improve the learning rate\n",
        "\n",
        "def adapt_learning_rate(epoch):\n",
        "    lr=0.001\n",
        "    if epoch>100:\n",
        "        lr=0.0001\n",
        "    if epoch>200:\n",
        "        lr=0.00005\n",
        "    if epoch>240:\n",
        "        lr=0.00001\n",
        "    if epoch>700:\n",
        "        lr=0.000005\n",
        "\n",
        "    return lr\n",
        "\n",
        "my_lr_scheduler = tf.keras.callbacks.LearningRateScheduler(adapt_learning_rate)"
      ]
    },
    {
      "cell_type": "code",
      "execution_count": 34,
      "metadata": {
        "id": "-CfyIeltXKbH",
        "outputId": "80e8aa42-700a-4125-e276-32fd0996b3be",
        "colab": {
          "base_uri": "https://localhost:8080/"
        }
      },
      "outputs": [
        {
          "output_type": "stream",
          "name": "stdout",
          "text": [
            "Model: \"sequential_1\"\n",
            "_________________________________________________________________\n",
            " Layer (type)                Output Shape              Param #   \n",
            "=================================================================\n",
            " dense_7 (Dense)             (None, 100)               14600     \n",
            "                                                                 \n",
            " dense_8 (Dense)             (None, 200)               20200     \n",
            "                                                                 \n",
            " batch_normalization_4 (Bat  (None, 200)               800       \n",
            " chNormalization)                                                \n",
            "                                                                 \n",
            " dropout_4 (Dropout)         (None, 200)               0         \n",
            "                                                                 \n",
            " dense_9 (Dense)             (None, 250)               50250     \n",
            "                                                                 \n",
            " batch_normalization_5 (Bat  (None, 250)               1000      \n",
            " chNormalization)                                                \n",
            "                                                                 \n",
            " dropout_5 (Dropout)         (None, 250)               0         \n",
            "                                                                 \n",
            " dense_10 (Dense)            (None, 500)               125500    \n",
            "                                                                 \n",
            " batch_normalization_6 (Bat  (None, 500)               2000      \n",
            " chNormalization)                                                \n",
            "                                                                 \n",
            " dropout_6 (Dropout)         (None, 500)               0         \n",
            "                                                                 \n",
            " dense_11 (Dense)            (None, 250)               125250    \n",
            "                                                                 \n",
            " batch_normalization_7 (Bat  (None, 250)               1000      \n",
            " chNormalization)                                                \n",
            "                                                                 \n",
            " dropout_7 (Dropout)         (None, 250)               0         \n",
            "                                                                 \n",
            " dense_12 (Dense)            (None, 150)               37650     \n",
            "                                                                 \n",
            " dense_13 (Dense)            (None, 1)                 151       \n",
            "                                                                 \n",
            "=================================================================\n",
            "Total params: 378401 (1.44 MB)\n",
            "Trainable params: 376001 (1.43 MB)\n",
            "Non-trainable params: 2400 (9.38 KB)\n",
            "_________________________________________________________________\n",
            "None\n"
          ]
        }
      ],
      "source": [
        "# Neural Network\n",
        "\n",
        "from keras.models import Sequential\n",
        "from keras.layers import Dense\n",
        "from keras.layers import Dropout\n",
        "\n",
        "# Network\n",
        "\n",
        "model = Sequential()\n",
        "\n",
        "model.add(tf.keras.layers.InputLayer(input_shape=(145,)))\n",
        "model.add(Dense(100,activation='relu'))\n",
        "model.add(Dense(200,activation='tanh'))\n",
        "model.add(tf.keras.layers.BatchNormalization())\n",
        "model.add(Dropout(0.2))\n",
        "model.add(Dense(250,activation='selu'))\n",
        "model.add(tf.keras.layers.BatchNormalization())\n",
        "model.add(Dropout(0.2))\n",
        "model.add(Dense(500,activation='elu'))\n",
        "model.add(tf.keras.layers.BatchNormalization())\n",
        "model.add(Dropout(0.4))\n",
        "model.add(Dense(250,activation='selu'))\n",
        "model.add(tf.keras.layers.BatchNormalization())\n",
        "model.add(Dropout(0.2))\n",
        "model.add(Dense(150,activation='relu'))\n",
        "model.add(Dense(1,activation='sigmoid')) # Output\n",
        "\n",
        "print(model.summary())"
      ]
    },
    {
      "cell_type": "code",
      "execution_count": 35,
      "metadata": {
        "id": "Trey0Z3zXKbH"
      },
      "outputs": [],
      "source": [
        "from sklearn.metrics import average_precision_score\n",
        "\n",
        "# Define the metric average_precision as a personalised function\n",
        "def average_precision(y_true, y_pred):\n",
        "    return tf.py_function(average_precision_score, (y_true, y_pred), tf.float64)"
      ]
    },
    {
      "cell_type": "code",
      "execution_count": 36,
      "metadata": {
        "id": "9LkKW0lJXKbH"
      },
      "outputs": [],
      "source": [
        "import tensorflow as tf\n",
        "from keras.losses import Loss\n",
        "import keras.backend as K\n",
        "from tensorflow.python.ops import math_ops\n",
        "\n",
        "class CustomLossMSFE_Orig(Loss):\n",
        "    def __init__(self, **kwargs):\n",
        "        super().__init__(**kwargs)\n",
        "\n",
        "    def call(self, y_true, y_pred):\n",
        "        # Obtain index for y_true where it's 0\n",
        "        indices_y_true_equals_0 = tf.where(tf.equal(y_true, 0)[:, 0])\n",
        "\n",
        "        # Filter y_true and y_pred with the founded index\n",
        "        y_true_0 = tf.gather(y_true, indices_y_true_equals_0)\n",
        "        y_pred_0 = tf.gather(y_pred, indices_y_true_equals_0)\n",
        "\n",
        "        # Calcul of number of samples where y_true is 0\n",
        "        n = tf.cast(tf.shape(y_true_0)[0], dtype=tf.float32)\n",
        "\n",
        "        # uncomment for give more learning to majority class\n",
        "        # n = 0.8 * n\n",
        "\n",
        "        # Convert tensors to float32\n",
        "        y_true_0 = tf.cast(y_true_0, dtype=tf.float32)\n",
        "        y_pred_0 = tf.cast(y_pred_0, dtype=tf.float32)\n",
        "\n",
        "        # Calcul of the addition of the mean squared errors for each neuron with y_true equal 0\n",
        "        diff_0 = math_ops.squared_difference(y_true_0, y_pred_0)\n",
        "        diff_0 = diff_0 / 2\n",
        "\n",
        "        red_sum_0 = tf.reduce_sum(diff_0)\n",
        "\n",
        "        # Obtain index for y_true where it's 1\n",
        "        indices_y_true_equals_1 = tf.where(tf.equal(y_true, 1)[:, 0])\n",
        "\n",
        "        # Filter y_true and y_pred with the founded index\n",
        "        y_true_1 = tf.gather(y_true, indices_y_true_equals_1)\n",
        "        y_pred_1 = tf.gather(y_pred, indices_y_true_equals_1)\n",
        "\n",
        "        # Calcul of number of samples where y_true is 1\n",
        "        p = tf.cast(tf.shape(y_true_1)[0], dtype=tf.float32)\n",
        "        p = 0.5 * p\n",
        "\n",
        "        # Convert tensors to float32\n",
        "        y_true_1 = tf.cast(y_true_1, dtype=tf.float32)\n",
        "        y_pred_1 = tf.cast(y_pred_1, dtype=tf.float32)\n",
        "\n",
        "        # Calcul of the addition of the mean squared errors for each neuron with y_true equal 0\n",
        "        diff_1 = math_ops.squared_difference(y_true_1, y_pred_1)\n",
        "        diff_1 = diff_1 / 2\n",
        "\n",
        "        red_sum_1 = tf.reduce_sum(diff_1)\n",
        "\n",
        "        # Calcul of the loss with the addition of both errors\n",
        "        loss = (red_sum_0 / n)**2 + (red_sum_1 / p)**2\n",
        "\n",
        "        return loss"
      ]
    },
    {
      "cell_type": "code",
      "execution_count": 37,
      "metadata": {
        "id": "f8kDmqGyXKbI"
      },
      "outputs": [],
      "source": [
        "model.compile(optimizer='adam',\n",
        "                loss=CustomLossMSFE_Orig(),\n",
        "                metrics=[average_precision])"
      ]
    },
    {
      "cell_type": "code",
      "execution_count": 38,
      "metadata": {
        "id": "WCMbyODUXKbI"
      },
      "outputs": [],
      "source": [
        "# Weights for the learning for each target label\n",
        "\n",
        "weights = {0:1, 1:1} # 7 Label (1) have 100 times more importance in the learning than label (0)"
      ]
    },
    {
      "cell_type": "code",
      "execution_count": 39,
      "metadata": {
        "id": "ii-3UcH2XKbI",
        "outputId": "3bb9f5a4-0ef7-4dbe-8f99-4d15c5f88422",
        "colab": {
          "base_uri": "https://localhost:8080/"
        }
      },
      "outputs": [
        {
          "output_type": "stream",
          "name": "stdout",
          "text": [
            "Epoch 1/70\n",
            "118/118 [==============================] - 6s 10ms/step - loss: 0.0408 - average_precision: 0.2874 - lr: 0.0010\n",
            "Epoch 2/70\n",
            "118/118 [==============================] - 1s 9ms/step - loss: 0.0292 - average_precision: 0.3786 - lr: 0.0010\n",
            "Epoch 3/70\n",
            "118/118 [==============================] - 1s 9ms/step - loss: 0.0262 - average_precision: 0.3997 - lr: 0.0010\n",
            "Epoch 4/70\n",
            "118/118 [==============================] - 1s 9ms/step - loss: 0.0237 - average_precision: 0.4251 - lr: 0.0010\n",
            "Epoch 5/70\n",
            "118/118 [==============================] - 1s 9ms/step - loss: 0.0229 - average_precision: 0.4366 - lr: 0.0010\n",
            "Epoch 6/70\n",
            "118/118 [==============================] - 1s 9ms/step - loss: 0.0214 - average_precision: 0.4436 - lr: 0.0010\n",
            "Epoch 7/70\n",
            "118/118 [==============================] - 1s 10ms/step - loss: 0.0201 - average_precision: 0.4714 - lr: 0.0010\n",
            "Epoch 8/70\n",
            "118/118 [==============================] - 1s 9ms/step - loss: 0.0191 - average_precision: 0.4817 - lr: 0.0010\n",
            "Epoch 9/70\n",
            "118/118 [==============================] - 1s 9ms/step - loss: 0.0191 - average_precision: 0.4804 - lr: 0.0010\n",
            "Epoch 10/70\n",
            "118/118 [==============================] - 1s 12ms/step - loss: 0.0186 - average_precision: 0.4924 - lr: 0.0010\n",
            "Epoch 11/70\n",
            "118/118 [==============================] - 2s 13ms/step - loss: 0.0184 - average_precision: 0.4943 - lr: 0.0010\n",
            "Epoch 12/70\n",
            "118/118 [==============================] - 2s 13ms/step - loss: 0.0180 - average_precision: 0.5029 - lr: 0.0010\n",
            "Epoch 13/70\n",
            "118/118 [==============================] - 1s 11ms/step - loss: 0.0176 - average_precision: 0.5069 - lr: 0.0010\n",
            "Epoch 14/70\n",
            "118/118 [==============================] - 1s 9ms/step - loss: 0.0175 - average_precision: 0.5110 - lr: 0.0010\n",
            "Epoch 15/70\n",
            "118/118 [==============================] - 1s 10ms/step - loss: 0.0173 - average_precision: 0.5167 - lr: 0.0010\n",
            "Epoch 16/70\n",
            "118/118 [==============================] - 1s 9ms/step - loss: 0.0172 - average_precision: 0.5137 - lr: 0.0010\n",
            "Epoch 17/70\n",
            "118/118 [==============================] - 1s 9ms/step - loss: 0.0167 - average_precision: 0.5249 - lr: 0.0010\n",
            "Epoch 18/70\n",
            "118/118 [==============================] - 1s 9ms/step - loss: 0.0163 - average_precision: 0.5266 - lr: 0.0010\n",
            "Epoch 19/70\n",
            "118/118 [==============================] - 1s 9ms/step - loss: 0.0165 - average_precision: 0.5311 - lr: 0.0010\n",
            "Epoch 20/70\n",
            "118/118 [==============================] - 1s 9ms/step - loss: 0.0161 - average_precision: 0.5300 - lr: 0.0010\n",
            "Epoch 21/70\n",
            "118/118 [==============================] - 1s 9ms/step - loss: 0.0164 - average_precision: 0.5273 - lr: 0.0010\n",
            "Epoch 22/70\n",
            "118/118 [==============================] - 1s 11ms/step - loss: 0.0157 - average_precision: 0.5341 - lr: 0.0010\n",
            "Epoch 23/70\n",
            "118/118 [==============================] - 2s 13ms/step - loss: 0.0158 - average_precision: 0.5357 - lr: 0.0010\n",
            "Epoch 24/70\n",
            "118/118 [==============================] - 2s 14ms/step - loss: 0.0157 - average_precision: 0.5372 - lr: 0.0010\n",
            "Epoch 25/70\n",
            "118/118 [==============================] - 1s 12ms/step - loss: 0.0157 - average_precision: 0.5397 - lr: 0.0010\n",
            "Epoch 26/70\n",
            "118/118 [==============================] - 1s 9ms/step - loss: 0.0156 - average_precision: 0.5326 - lr: 0.0010\n",
            "Epoch 27/70\n",
            "118/118 [==============================] - 1s 9ms/step - loss: 0.0153 - average_precision: 0.5429 - lr: 0.0010\n",
            "Epoch 28/70\n",
            "118/118 [==============================] - 1s 9ms/step - loss: 0.0151 - average_precision: 0.5458 - lr: 0.0010\n",
            "Epoch 29/70\n",
            "118/118 [==============================] - 1s 9ms/step - loss: 0.0152 - average_precision: 0.5463 - lr: 0.0010\n",
            "Epoch 30/70\n",
            "118/118 [==============================] - 1s 9ms/step - loss: 0.0153 - average_precision: 0.5424 - lr: 0.0010\n",
            "Epoch 31/70\n",
            "118/118 [==============================] - 1s 9ms/step - loss: 0.0145 - average_precision: 0.5567 - lr: 0.0010\n",
            "Epoch 32/70\n",
            "118/118 [==============================] - 1s 9ms/step - loss: 0.0149 - average_precision: 0.5428 - lr: 0.0010\n",
            "Epoch 33/70\n",
            "118/118 [==============================] - 1s 9ms/step - loss: 0.0144 - average_precision: 0.5521 - lr: 0.0010\n",
            "Epoch 34/70\n",
            "118/118 [==============================] - 1s 10ms/step - loss: 0.0144 - average_precision: 0.5580 - lr: 0.0010\n",
            "Epoch 35/70\n",
            "118/118 [==============================] - 2s 14ms/step - loss: 0.0142 - average_precision: 0.5565 - lr: 0.0010\n",
            "Epoch 36/70\n",
            "118/118 [==============================] - 2s 13ms/step - loss: 0.0144 - average_precision: 0.5580 - lr: 0.0010\n",
            "Epoch 37/70\n",
            "118/118 [==============================] - 2s 13ms/step - loss: 0.0145 - average_precision: 0.5529 - lr: 0.0010\n",
            "Epoch 38/70\n",
            "118/118 [==============================] - 1s 9ms/step - loss: 0.0144 - average_precision: 0.5591 - lr: 0.0010\n",
            "Epoch 39/70\n",
            "118/118 [==============================] - 1s 9ms/step - loss: 0.0139 - average_precision: 0.5651 - lr: 0.0010\n",
            "Epoch 40/70\n",
            "118/118 [==============================] - 1s 10ms/step - loss: 0.0139 - average_precision: 0.5664 - lr: 0.0010\n",
            "Epoch 41/70\n",
            "118/118 [==============================] - 1s 9ms/step - loss: 0.0140 - average_precision: 0.5566 - lr: 0.0010\n",
            "Epoch 42/70\n",
            "118/118 [==============================] - 1s 9ms/step - loss: 0.0139 - average_precision: 0.5619 - lr: 0.0010\n",
            "Epoch 43/70\n",
            "118/118 [==============================] - 1s 9ms/step - loss: 0.0138 - average_precision: 0.5644 - lr: 0.0010\n",
            "Epoch 44/70\n",
            "118/118 [==============================] - 1s 9ms/step - loss: 0.0135 - average_precision: 0.5648 - lr: 0.0010\n",
            "Epoch 45/70\n",
            "118/118 [==============================] - 1s 9ms/step - loss: 0.0135 - average_precision: 0.5710 - lr: 0.0010\n",
            "Epoch 46/70\n",
            "118/118 [==============================] - 1s 10ms/step - loss: 0.0132 - average_precision: 0.5713 - lr: 0.0010\n",
            "Epoch 47/70\n",
            "118/118 [==============================] - 2s 14ms/step - loss: 0.0132 - average_precision: 0.5696 - lr: 0.0010\n",
            "Epoch 48/70\n",
            "118/118 [==============================] - 2s 13ms/step - loss: 0.0134 - average_precision: 0.5719 - lr: 0.0010\n",
            "Epoch 49/70\n",
            "118/118 [==============================] - 2s 18ms/step - loss: 0.0134 - average_precision: 0.5736 - lr: 0.0010\n",
            "Epoch 50/70\n",
            "118/118 [==============================] - 2s 16ms/step - loss: 0.0128 - average_precision: 0.5766 - lr: 0.0010\n",
            "Epoch 51/70\n",
            "118/118 [==============================] - 1s 10ms/step - loss: 0.0134 - average_precision: 0.5679 - lr: 0.0010\n",
            "Epoch 52/70\n",
            "118/118 [==============================] - 1s 9ms/step - loss: 0.0129 - average_precision: 0.5763 - lr: 0.0010\n",
            "Epoch 53/70\n",
            "118/118 [==============================] - 1s 9ms/step - loss: 0.0131 - average_precision: 0.5826 - lr: 0.0010\n",
            "Epoch 54/70\n",
            "118/118 [==============================] - 1s 9ms/step - loss: 0.0127 - average_precision: 0.5859 - lr: 0.0010\n",
            "Epoch 55/70\n",
            "118/118 [==============================] - 1s 9ms/step - loss: 0.0129 - average_precision: 0.5814 - lr: 0.0010\n",
            "Epoch 56/70\n",
            "118/118 [==============================] - 1s 9ms/step - loss: 0.0126 - average_precision: 0.5850 - lr: 0.0010\n",
            "Epoch 57/70\n",
            "118/118 [==============================] - 1s 10ms/step - loss: 0.0130 - average_precision: 0.5807 - lr: 0.0010\n",
            "Epoch 58/70\n",
            "118/118 [==============================] - 2s 13ms/step - loss: 0.0126 - average_precision: 0.5857 - lr: 0.0010\n",
            "Epoch 59/70\n",
            "118/118 [==============================] - 2s 13ms/step - loss: 0.0127 - average_precision: 0.5847 - lr: 0.0010\n",
            "Epoch 60/70\n",
            "118/118 [==============================] - 2s 13ms/step - loss: 0.0123 - average_precision: 0.5863 - lr: 0.0010\n",
            "Epoch 61/70\n",
            "118/118 [==============================] - 1s 9ms/step - loss: 0.0124 - average_precision: 0.5881 - lr: 0.0010\n",
            "Epoch 62/70\n",
            "118/118 [==============================] - 1s 9ms/step - loss: 0.0121 - average_precision: 0.5910 - lr: 0.0010\n",
            "Epoch 63/70\n",
            "118/118 [==============================] - 1s 10ms/step - loss: 0.0125 - average_precision: 0.5885 - lr: 0.0010\n",
            "Epoch 64/70\n",
            "118/118 [==============================] - 1s 10ms/step - loss: 0.0125 - average_precision: 0.5876 - lr: 0.0010\n",
            "Epoch 65/70\n",
            "118/118 [==============================] - 1s 10ms/step - loss: 0.0123 - average_precision: 0.5921 - lr: 0.0010\n",
            "Epoch 66/70\n",
            "118/118 [==============================] - 1s 9ms/step - loss: 0.0118 - average_precision: 0.6003 - lr: 0.0010\n",
            "Epoch 67/70\n",
            "118/118 [==============================] - 1s 9ms/step - loss: 0.0118 - average_precision: 0.5969 - lr: 0.0010\n",
            "Epoch 68/70\n",
            "118/118 [==============================] - 1s 9ms/step - loss: 0.0120 - average_precision: 0.5943 - lr: 0.0010\n",
            "Epoch 69/70\n",
            "118/118 [==============================] - 1s 10ms/step - loss: 0.0119 - average_precision: 0.5967 - lr: 0.0010\n",
            "Epoch 70/70\n",
            "118/118 [==============================] - 2s 13ms/step - loss: 0.0117 - average_precision: 0.6035 - lr: 0.0010\n"
          ]
        }
      ],
      "source": [
        "# history1 = model.fit(training_input,training_output,batch_size=800,epochs=60,\n",
        "#                     shuffle=True,callbacks=my_lr_scheduler,class_weight=weights,validation_data=(val_input,val_output))\n",
        "\n",
        "history1 = model.fit(training_input,training_output,batch_size=800,epochs=70,\n",
        "                    shuffle=True,callbacks=my_lr_scheduler,class_weight=weights)\n",
        "\n"
      ]
    },
    {
      "cell_type": "code",
      "execution_count": 40,
      "metadata": {
        "id": "bjwbElf_XKbI",
        "outputId": "509bbece-e47d-46b7-8b8f-8ce758f3b981",
        "colab": {
          "base_uri": "https://localhost:8080/",
          "height": 565
        }
      },
      "outputs": [
        {
          "output_type": "display_data",
          "data": {
            "text/plain": [
              "<Figure size 1200x600 with 2 Axes>"
            ],
            "image/png": "[encoded data removed]"
          },
          "metadata": {}
        }
      ],
      "source": [
        "# Visualization of the model\n",
        "\n",
        "import matplotlib.pyplot as plt\n",
        "\n",
        "# plot fonction perte\n",
        "\n",
        "loss=history1.history['loss']\n",
        "\n",
        "# val_loss = history1.history['val_loss']\n",
        "epochs = range(1,len(loss)+1)\n",
        "\n",
        "plt.figure(figsize=(12,6))\n",
        "\n",
        "\n",
        "plt.subplot(1,2,1)\n",
        "plt.plot(epochs, loss, 'bo', label = 'Entrainement')\n",
        "# plt.plot(epochs, val_loss, 'b', label='Validation')\n",
        "plt.title('Perte pendant l\\'entrainement et la validation')\n",
        "plt.xlabel('Nombre d\\'époques')\n",
        "plt.ylabel('Loss')\n",
        "plt.legend()\n",
        "\n",
        "# plot precision du model\n",
        "\n",
        "avp = history1.history['average_precision']\n",
        "# val_avp = history1.history['val_average_precision']\n",
        "\n",
        "plt.subplot(1,2,2)\n",
        "plt.plot(epochs,avp,'bo',label='Entrainement')\n",
        "# plt.plot(epochs, val_avp, 'b', label='Validation')\n",
        "plt.title('Average Précision pendant l\\'entrainement et la validation')\n",
        "plt.xlabel('Nombre d\\'époques')\n",
        "plt.ylabel('Average Precision')\n",
        "plt.legend()\n",
        "plt.savefig('loss_accuracy_model.jpg')\n",
        "plt.show()"
      ]
    },
    {
      "cell_type": "code",
      "source": [
        "test_output = np.array(test_output)"
      ],
      "metadata": {
        "id": "t1a-jacOgDQB"
      },
      "execution_count": 41,
      "outputs": []
    },
    {
      "cell_type": "code",
      "execution_count": 42,
      "metadata": {
        "id": "C2zDf9NwXKbJ",
        "colab": {
          "base_uri": "https://localhost:8080/"
        },
        "outputId": "728477ef-acc6-448c-cc65-c6c11797593a"
      },
      "outputs": [
        {
          "output_type": "stream",
          "name": "stdout",
          "text": [
            "290/290 [==============================] - 1s 2ms/step\n",
            "There are  2548  labels (1) predicted\n",
            "There are  117  labels (1) in the reality\n",
            "Neural Network PR-AUC =  0.05245924644812869\n",
            "Neural Network PR-AUC (binary) =  0.026772642378423597\n"
          ]
        }
      ],
      "source": [
        "# Validation of model performance with new data\n",
        "\n",
        "y_pred = model.predict(test_input)\n",
        "\n",
        "counter_p = len([valor for valor in y_pred if valor > 0.5])\n",
        "counter_r = len([valor_r for valor_r in test_output if valor_r > 0.5])\n",
        "print('There are ',counter_p, ' labels (1) predicted')\n",
        "print('There are ',counter_r, ' labels (1) in the reality')\n",
        "\n",
        "print('Neural Network PR-AUC = ',average_precision_score(test_output,y_pred))\n",
        "\n",
        "y_pred_int = [1 if value > 0.5 else 0 for value in y_pred]\n",
        "\n",
        "print('Neural Network PR-AUC (binary) = ',average_precision_score(test_output,y_pred_int))"
      ]
    },
    {
      "cell_type": "code",
      "execution_count": 43,
      "metadata": {
        "id": "ZNP8Z5a_XKbJ",
        "colab": {
          "base_uri": "https://localhost:8080/",
          "height": 472
        },
        "outputId": "4a9e9f25-40bc-43ee-8e2b-403c51e261dd"
      },
      "outputs": [
        {
          "output_type": "display_data",
          "data": {
            "text/plain": [
              "<Figure size 640x480 with 2 Axes>"
            ],
            "image/png": "[encoded data removed]"
          },
          "metadata": {}
        }
      ],
      "source": [
        "import seaborn as sns\n",
        "import matplotlib.pyplot as plt\n",
        "from sklearn.metrics import confusion_matrix\n",
        "\n",
        "prediction = (y_pred > 0.5).astype(int)\n",
        "\n",
        "# Uncomment to view the model's Confusion Matrix\n",
        "\n",
        "conf_matrix_features = confusion_matrix(test_output, prediction)\n",
        "\n",
        "sns.heatmap(conf_matrix_features, annot = True, fmt = 'd', cmap='Blues')\n",
        "\n",
        "plt.xlabel('Predictions')\n",
        "plt.ylabel('Test Values')\n",
        "plt.title('Confusion Matrix / Neural Network +')\n",
        "plt.savefig('conf_matrix_NeuralNetwork.jpg')\n",
        "plt.show()"
      ]
    },
    {
      "cell_type": "markdown",
      "metadata": {
        "id": "eDkFLd-4XKbJ"
      },
      "source": [
        "TRATMENT OF THE TEST DATA"
      ]
    },
    {
      "cell_type": "code",
      "execution_count": 45,
      "metadata": {
        "id": "WJrd3OXeXKbL",
        "outputId": "05ad03d1-9f5c-470d-f60f-dbc351827f78",
        "colab": {
          "base_uri": "https://localhost:8080/"
        }
      },
      "outputs": [
        {
          "output_type": "stream",
          "name": "stderr",
          "text": [
            "<ipython-input-45-85b7a3d3772d>:1: DtypeWarning: Columns (21,22,23,24,69,70,71,72,93,94,95,96,97,104,105,106,107,108,109,110,111,112,113,114,115,116,117,118,119,120) have mixed types. Specify dtype option on import or set low_memory=False.\n",
            "  test_Dataframe = pd.read_csv('/content/drive/MyDrive/Colab Notebooks/Challenge_data_BNP/X_train_G3tdtEn.csv')\n"
          ]
        }
      ],
      "source": [
        "test_Dataframe = pd.read_csv('/content/drive/MyDrive/Colab Notebooks/Challenge_data_BNP/X_train_G3tdtEn.csv')\n",
        "test = test_Dataframe.copy()\n",
        "\n",
        "# Loop for that assign a each unique categorical value a number and after it reeplace the categorical value for this number\n",
        "\n",
        "for count_1 in range(0,4):\n",
        "\n",
        "    # dictionary\n",
        "    dic_map_1 = list_dic_map[count_1]\n",
        "\n",
        "    # Replace the values in dataframe\n",
        "\n",
        "    for colob_1 in range(0,24):\n",
        "        test[list_col_object[colob_1+count_1*24]] = test[list_col_object[colob_1+count_1*24]].map(dic_map_1)\n"
      ]
    },
    {
      "cell_type": "code",
      "execution_count": 46,
      "metadata": {
        "id": "j4g5d7OKXKbL"
      },
      "outputs": [],
      "source": [
        "# Reemplace the 0 in the converted columns to his true value NaN\n",
        "test[list_col_object] = test[list_col_object].replace(0,np.nan)\n",
        "\n",
        "# we put out the columns that not contribute to the prediction\n",
        "test = test.drop('ID',axis=1)\n"
      ]
    },
    {
      "cell_type": "code",
      "execution_count": 47,
      "metadata": {
        "id": "zKDVzF2bXKbL",
        "outputId": "478f7b6c-37e4-4348-ea1e-b982113cfa70",
        "colab": {
          "base_uri": "https://localhost:8080/"
        }
      },
      "outputs": [
        {
          "output_type": "stream",
          "name": "stdout",
          "text": [
            "(92790, 145)\n",
            "12415322\n"
          ]
        }
      ],
      "source": [
        "dataX = np.array(test)\n",
        "\n",
        "print(dataX.shape)\n",
        "\n",
        "print(np.sum(np.isnan(dataX)))"
      ]
    },
    {
      "cell_type": "code",
      "execution_count": 48,
      "metadata": {
        "id": "FNdHNvQdXKbL"
      },
      "outputs": [],
      "source": [
        "# Remplace the NaN values\n",
        "\n",
        "constant_imputer = SimpleImputer(strategy='constant')\n",
        "dataX_imp = constant_imputer.fit_transform(dataX)\n",
        "\n",
        "# normalizacion\n",
        "\n",
        "scaler = MinMaxScaler(feature_range=(0, 1))\n",
        "dataX_test = scaler.fit_transform(dataX_imp)"
      ]
    },
    {
      "cell_type": "markdown",
      "metadata": {
        "id": "F9bCDYR0XKbL"
      },
      "source": [
        "PREDICTION AND GENERATION OF THE Y TEST"
      ]
    },
    {
      "cell_type": "code",
      "execution_count": 49,
      "metadata": {
        "id": "OTUfr9ZGXKbM",
        "outputId": "a6f68e82-1df7-46aa-b684-ebc7d832f290",
        "colab": {
          "base_uri": "https://localhost:8080/"
        }
      },
      "outputs": [
        {
          "output_type": "stream",
          "name": "stdout",
          "text": [
            "2900/2900 [==============================] - 6s 2ms/step\n",
            "There are  26079  labels (1) predicted\n",
            "[[3.5561639e-01]\n",
            " [1.1104653e-03]\n",
            " [2.3803214e-02]\n",
            " ...\n",
            " [1.3000515e-06]\n",
            " [2.7434426e-04]\n",
            " [7.5546987e-03]]\n"
          ]
        }
      ],
      "source": [
        "# Prediction\n",
        "\n",
        "y_pred = model.predict(dataX_test)\n",
        "\n",
        "counter_p = len([valor for valor in y_pred if valor > 0.5])\n",
        "print('There are ',counter_p, ' labels (1) predicted')\n",
        "\n",
        "Y_test = pd.DataFrame(np.column_stack([test_Dataframe['ID'],y_pred]),columns=['ID','fraud_flag'])\n",
        "Y_test.to_csv('Y_test.csv', index=True,index_label='index')\n",
        "print(y_pred)"
      ]
    }
  ],
  "metadata": {
    "kernelspec": {
      "display_name": "Python 3",
      "name": "python3"
    },
    "language_info": {
      "codemirror_mode": {
        "name": "ipython",
        "version": 3
      },
      "file_extension": ".py",
      "mimetype": "text/x-python",
      "name": "python",
      "nbconvert_exporter": "python",
      "pygments_lexer": "ipython3",
      "version": "3.10.11"
    },
    "colab": {
      "provenance": [],
      "gpuType": "T4"
    },
    "accelerator": "GPU"
  },
  "nbformat": 4,
  "nbformat_minor": 0
}