{
  "cells": [
    {
      "cell_type": "code",
      "execution_count": 2,
      "metadata": {
        "id": "3hLuR9w1cjNO"
      },
      "outputs": [],
      "source": [
        "import pandas as pd\n",
        "import numpy as np"
      ]
    },
    {
      "cell_type": "code",
      "source": [
        "from google.colab import drive\n",
        "drive.mount('/content/drive')"
      ],
      "metadata": {
        "colab": {
          "base_uri": "https://localhost:8080/"
        },
        "id": "b5dMdD5gcu6s",
        "outputId": "64dfe2a5-957e-49d7-9e1a-2e659f1317e9"
      },
      "execution_count": 3,
      "outputs": [
        {
          "output_type": "stream",
          "name": "stdout",
          "text": [
            "Drive already mounted at /content/drive; to attempt to forcibly remount, call drive.mount(\"/content/drive\", force_remount=True).\n"
          ]
        }
      ]
    },
    {
      "cell_type": "code",
      "execution_count": 4,
      "metadata": {
        "colab": {
          "base_uri": "https://localhost:8080/"
        },
        "id": "_tk6VJJkcjNP",
        "outputId": "c2f5bca8-93fd-4426-cee6-d9ef99f1f87f"
      },
      "outputs": [
        {
          "output_type": "stream",
          "name": "stderr",
          "text": [
            "<ipython-input-4-7221667b0216>:1: DtypeWarning: Columns (21,22,23,24,69,70,71,72,93,94,95,96,97,104,105,106,107,108,109,110,111,112,113,114,115,116,117,118,119,120) have mixed types. Specify dtype option on import or set low_memory=False.\n",
            "  dataframe = pd.read_csv('/content/drive/MyDrive/Colab Notebooks/Challenge_data_BNP/X_train_G3tdtEn.csv')\n",
            "<ipython-input-4-7221667b0216>:2: DtypeWarning: Columns (20,21,22,23,24,68,69,70,71,72,92,93,94,95,96,97,106,107,108,109,110,111,112,113,114,115,116,117,118) have mixed types. Specify dtype option on import or set low_memory=False.\n",
            "  test_Dataframe = pd.read_csv('/content/drive/MyDrive/Colab Notebooks/Challenge_data_BNP/X_test_8skS2ey.csv')\n"
          ]
        }
      ],
      "source": [
        "dataframe = pd.read_csv('/content/drive/MyDrive/Colab Notebooks/Challenge_data_BNP/X_train_G3tdtEn.csv')\n",
        "test_Dataframe = pd.read_csv('/content/drive/MyDrive/Colab Notebooks/Challenge_data_BNP/X_test_8skS2ey.csv')\n",
        "data_Y = pd.read_csv('/content/drive/MyDrive/Colab Notebooks/Challenge_data_BNP/Y_train_2_XPXJDyy.csv')\n",
        "\n",
        "df = dataframe.copy()\n",
        "\n",
        "## change of the categorical data to numbers\n",
        "\n",
        "list_uniqueLabel = []\n",
        "list_col_object = []\n",
        "list_dic_map = []\n",
        "# Loop for that assign a each unique categorical value a number and after it reeplace the categorical value for this number\n",
        "for col in df.columns:\n",
        "    if df[col].dtypes == object:\n",
        "        list_col_object.append(col)\n",
        "\n",
        "\n",
        "for count in range(0,4):\n",
        "\n",
        "    concate = pd.concat([dataframe[colum] for colum in list_col_object[(count*24):((count+1)*24)]])\n",
        "    concate = pd.concat([test_Dataframe[columt] for columt in list_col_object[(count*24):((count+1)*24)]])\n",
        "    concate = pd.concat([pd.Series([np.nan]),concate])\n",
        "\n",
        "    list_uniqueLabel.append(concate.unique())\n",
        "\n",
        "    # dictionary\n",
        "    dic_map = {label : index for index, label in enumerate(list_uniqueLabel[-1])}\n",
        "\n",
        "    # Replace the values in dataframe\n",
        "\n",
        "    for colob in range(0,24):\n",
        "        df[list_col_object[colob+count*24]] = df[list_col_object[colob+count*24]].map(dic_map)\n",
        "\n",
        "    list_dic_map.append(dic_map.copy())\n",
        "    dic_map.clear()\n"
      ]
    },
    {
      "cell_type": "code",
      "execution_count": 5,
      "metadata": {
        "colab": {
          "base_uri": "https://localhost:8080/"
        },
        "id": "wLXxqdHEcjNR",
        "outputId": "3912c921-abd8-453c-a4bc-7d8f22bc067d"
      },
      "outputs": [
        {
          "output_type": "stream",
          "name": "stdout",
          "text": [
            "True\n"
          ]
        }
      ],
      "source": [
        "# Reemplace the 0 in the converted columns to his true value NaN\n",
        "df[list_col_object] = df[list_col_object].replace(0,np.nan)\n",
        "\n",
        "# Verification exact coincidence\n",
        "\n",
        "exact_coincidence = (df['ID'] == data_Y['ID']).all()\n",
        "print(exact_coincidence)\n",
        "\n",
        "# we put out the columns that not contribute to the prediction\n",
        "\n",
        "df = df.drop('ID',axis=1)\n",
        "data_Y = data_Y.drop(['index','ID'], axis=1)"
      ]
    },
    {
      "cell_type": "code",
      "execution_count": 6,
      "metadata": {
        "colab": {
          "base_uri": "https://localhost:8080/"
        },
        "id": "tfqKfYb9cjNR",
        "outputId": "1a1b1452-93ae-4b4f-9ed1-a705ed499a71"
      },
      "outputs": [
        {
          "output_type": "stream",
          "name": "stdout",
          "text": [
            "(92790, 145)\n",
            "(92790, 1)\n",
            "12415322\n"
          ]
        }
      ],
      "source": [
        "dataX = np.array(df)\n",
        "dataY = np.array(data_Y)\n",
        "\n",
        "print(dataX.shape)\n",
        "print(dataY.shape)\n",
        "\n",
        "print(np.sum(np.isnan(dataX)))"
      ]
    },
    {
      "cell_type": "code",
      "execution_count": 7,
      "metadata": {
        "id": "HwDg-hAlcjNR"
      },
      "outputs": [],
      "source": [
        "from sklearn.model_selection import train_test_split\n",
        "from sklearn.preprocessing import MinMaxScaler\n",
        "from sklearn.impute import SimpleImputer\n",
        "\n",
        "# Remplace the NaN values\n",
        "\n",
        "constant_imputer = SimpleImputer(strategy='constant')\n",
        "dataX_imp = constant_imputer.fit_transform(dataX)\n",
        "\n",
        "# normalizacion\n",
        "\n",
        "scaler = MinMaxScaler(feature_range=(0, 1))\n",
        "dataX_n = scaler.fit_transform(dataX_imp)\n",
        "\n",
        "# split of data for training and test\n",
        "\n",
        "training_input_temp,test_input,training_output_temp,test_output = train_test_split(dataX_n, dataY, test_size=0.1)\n",
        "training_input_t,val_input,training_output_t,val_output = train_test_split(training_input_temp, training_output_temp, test_size=0.222)\n"
      ]
    },
    {
      "cell_type": "code",
      "execution_count": 8,
      "metadata": {
        "colab": {
          "base_uri": "https://localhost:8080/"
        },
        "id": "FpEFY72-cjNR",
        "outputId": "c7f7ffc3-095c-4987-e195-777eb69ad830"
      },
      "outputs": [
        {
          "output_type": "stream",
          "name": "stdout",
          "text": [
            "Valor: [0 1], Frecuencia: [9145  134]\n"
          ]
        }
      ],
      "source": [
        "\n",
        "unique_values, freq = np.unique(test_output, return_counts=True)\n",
        "\n",
        "# Show results\n",
        "print(f\"Valor: {unique_values}, Frecuencia: {freq}\")"
      ]
    },
    {
      "cell_type": "code",
      "execution_count": 9,
      "metadata": {
        "colab": {
          "base_uri": "https://localhost:8080/"
        },
        "id": "vrSwyL6dcjNS",
        "outputId": "adecf61a-8061-4154-b38b-8dfb4dd93f38"
      },
      "outputs": [
        {
          "output_type": "stream",
          "name": "stdout",
          "text": [
            "Valor: [0 1], Frecuencia: [18268   272]\n"
          ]
        }
      ],
      "source": [
        "unique_values, freq = np.unique(val_output, return_counts=True)\n",
        "\n",
        "# Show results\n",
        "print(f\"Valor: {unique_values}, Frecuencia: {freq}\")"
      ]
    },
    {
      "cell_type": "code",
      "execution_count": 10,
      "metadata": {
        "colab": {
          "base_uri": "https://localhost:8080/"
        },
        "id": "iItq6XKvcjNS",
        "outputId": "aabde08b-a8a2-4ca1-e32a-cbce6f44abdb"
      },
      "outputs": [
        {
          "output_type": "stream",
          "name": "stdout",
          "text": [
            "class distribution before SMOTE\n",
            "0    64058\n",
            "1      913\n",
            "Name: fraud_flag, dtype: int64\n",
            "\n",
            "\n",
            "class distribution after SMOTE\n",
            "0    64058\n",
            "1    31042\n",
            "Name: fraud_flag, dtype: int64\n",
            "(64971, 145)\n",
            "(95100, 145)\n"
          ]
        }
      ],
      "source": [
        "\n",
        "# SMOTE tecnique (Syntetic geenration of data)\n",
        "\n",
        "from imblearn.over_sampling import SMOTE\n",
        "\n",
        "# Return to dataframe\n",
        "\n",
        "df_train = pd.DataFrame(training_input_t,columns=df.columns)\n",
        "datY_train = pd.DataFrame(training_output_t,columns=data_Y.columns)\n",
        "\n",
        "# Aplication of SMOTE only in the training data (test is with the original values)\n",
        "\n",
        "count_minoritary_class = len(datY_train[datY_train['fraud_flag'] == 1])\n",
        "smote = SMOTE(sampling_strategy={1:(34*count_minoritary_class)}, random_state=42) # the {1:4} means have the class with label 1, 4 times, so increase 3 values\n",
        "\n",
        "df_smote,data_y_smote = smote.fit_resample(df_train,datY_train)\n",
        "\n",
        "# Print number each class\n",
        "print('class distribution before SMOTE')\n",
        "print(datY_train['fraud_flag'].value_counts())\n",
        "print('\\n')\n",
        "print('class distribution after SMOTE')\n",
        "print(data_y_smote['fraud_flag'].value_counts())\n",
        "\n",
        "print(df_train.shape)\n",
        "print(df_smote.shape)\n",
        "\n",
        "# Conversion to array\n",
        "dataX_a = np.array(df_smote)\n",
        "dataY_a = np.array(data_y_smote)\n",
        "\n",
        "# Determination of training data\n",
        "training_input,training_output = dataX_a,dataY_a"
      ]
    },
    {
      "cell_type": "code",
      "execution_count": 11,
      "metadata": {
        "id": "WLo6_S26cjNS"
      },
      "outputs": [],
      "source": [
        "import tensorflow as tf\n",
        "\n",
        "# Function to improve the learning rate\n",
        "\n",
        "def adapt_learning_rate(epoch):\n",
        "    lr=0.001\n",
        "    if epoch>100:\n",
        "        lr=0.0001\n",
        "    if epoch>200:\n",
        "        lr=0.00005\n",
        "    if epoch>240:\n",
        "        lr=0.00001\n",
        "    if epoch>700:\n",
        "        lr=0.000005\n",
        "\n",
        "    return lr\n",
        "\n",
        "my_lr_scheduler = tf.keras.callbacks.LearningRateScheduler(adapt_learning_rate)"
      ]
    },
    {
      "cell_type": "code",
      "execution_count": 12,
      "metadata": {
        "colab": {
          "base_uri": "https://localhost:8080/"
        },
        "id": "0kjEwDy6cjNS",
        "outputId": "69b310fa-7f4e-4a7c-b75d-2d07caba0220"
      },
      "outputs": [
        {
          "output_type": "stream",
          "name": "stdout",
          "text": [
            "Model: \"sequential\"\n",
            "_________________________________________________________________\n",
            " Layer (type)                Output Shape              Param #   \n",
            "=================================================================\n",
            " dense (Dense)               (None, 100)               14600     \n",
            "                                                                 \n",
            " dense_1 (Dense)             (None, 200)               20200     \n",
            "                                                                 \n",
            " dropout (Dropout)           (None, 200)               0         \n",
            "                                                                 \n",
            " dense_2 (Dense)             (None, 250)               50250     \n",
            "                                                                 \n",
            " dropout_1 (Dropout)         (None, 250)               0         \n",
            "                                                                 \n",
            " dense_3 (Dense)             (None, 500)               125500    \n",
            "                                                                 \n",
            " dropout_2 (Dropout)         (None, 500)               0         \n",
            "                                                                 \n",
            " dense_4 (Dense)             (None, 250)               125250    \n",
            "                                                                 \n",
            " dropout_3 (Dropout)         (None, 250)               0         \n",
            "                                                                 \n",
            " dense_5 (Dense)             (None, 150)               37650     \n",
            "                                                                 \n",
            " dense_6 (Dense)             (None, 1)                 151       \n",
            "                                                                 \n",
            "=================================================================\n",
            "Total params: 373601 (1.43 MB)\n",
            "Trainable params: 373601 (1.43 MB)\n",
            "Non-trainable params: 0 (0.00 Byte)\n",
            "_________________________________________________________________\n",
            "None\n"
          ]
        }
      ],
      "source": [
        "# Neural Network\n",
        "\n",
        "from keras.models import Sequential\n",
        "from keras.layers import Dense\n",
        "from keras.layers import Dropout\n",
        "\n",
        "# Network\n",
        "\n",
        "model = Sequential()\n",
        "\n",
        "model.add(tf.keras.layers.InputLayer(input_shape=(145,)))\n",
        "model.add(Dense(100,activation='relu'))\n",
        "model.add(Dense(200,activation='tanh'))\n",
        "model.add(Dropout(0.2))\n",
        "model.add(Dense(250,activation='selu'))\n",
        "model.add(Dropout(0.2))\n",
        "model.add(Dense(500,activation='elu'))\n",
        "model.add(Dropout(0.4))\n",
        "model.add(Dense(250,activation='selu'))\n",
        "model.add(Dropout(0.2))\n",
        "model.add(Dense(150,activation='relu'))\n",
        "model.add(Dense(1,activation='sigmoid')) # Output\n",
        "\n",
        "print(model.summary())"
      ]
    },
    {
      "cell_type": "code",
      "execution_count": 13,
      "metadata": {
        "id": "2TVrPfnlcjNS"
      },
      "outputs": [],
      "source": [
        "from sklearn.metrics import average_precision_score\n",
        "\n",
        "# Define the metric average_precision as a personalised function\n",
        "def average_precision(y_true, y_pred):\n",
        "    return tf.py_function(average_precision_score, (y_true, y_pred), tf.float64)"
      ]
    },
    {
      "cell_type": "code",
      "execution_count": 14,
      "metadata": {
        "id": "qE_CYUefcjNS"
      },
      "outputs": [],
      "source": [
        "model.compile(optimizer='adam',\n",
        "                loss=tf.keras.losses.BinaryCrossentropy(from_logits=True),\n",
        "                metrics=[average_precision])"
      ]
    },
    {
      "cell_type": "code",
      "execution_count": 15,
      "metadata": {
        "colab": {
          "base_uri": "https://localhost:8080/"
        },
        "id": "aZgnQ3o3cjNT",
        "outputId": "1a43de07-0e45-453c-9271-3eb8a93915f0"
      },
      "outputs": [
        {
          "output_type": "stream",
          "name": "stdout",
          "text": [
            "Epoch 1/50\n"
          ]
        },
        {
          "output_type": "stream",
          "name": "stderr",
          "text": [
            "/usr/local/lib/python3.10/dist-packages/keras/src/backend.py:5818: UserWarning: \"`binary_crossentropy` received `from_logits=True`, but the `output` argument was produced by a Sigmoid activation and thus does not represent logits. Was this intended?\n",
            "  output, from_logits = _get_logits(\n"
          ]
        },
        {
          "output_type": "stream",
          "name": "stdout",
          "text": [
            "151/159 [===========================>..] - ETA: 0s - loss: 0.5505 - average_precision: 0.5604"
          ]
        },
        {
          "output_type": "stream",
          "name": "stderr",
          "text": [
            "/usr/local/lib/python3.10/dist-packages/keras/src/backend.py:5818: UserWarning: \"`binary_crossentropy` received `from_logits=True`, but the `output` argument was produced by a Sigmoid activation and thus does not represent logits. Was this intended?\n",
            "  output, from_logits = _get_logits(\n"
          ]
        },
        {
          "output_type": "stream",
          "name": "stdout",
          "text": [
            "\b\b\b\b\b\b\b\b\b\b\b\b\b\b\b\b\b\b\b\b\b\b\b\b\b\b\b\b\b\b\b\b\b\b\b\b\b\b\b\b\b\b\b\b\b\b\b\b\b\b\b\b\b\b\b\b\b\b\b\b\b\b\b\b\b\b\b\b\b\b\b\b\b\b\b\b\b\b\b\b\b\b\b\b\b\b\b\b\b\b\b\b\b\r159/159 [==============================] - 7s 8ms/step - loss: 0.5487 - average_precision: 0.5639 - val_loss: 0.3831 - val_average_precision: 0.0723 - lr: 0.0010\n",
            "Epoch 2/50\n",
            "159/159 [==============================] - 1s 7ms/step - loss: 0.4967 - average_precision: 0.6451 - val_loss: 0.3461 - val_average_precision: 0.0853 - lr: 0.0010\n",
            "Epoch 3/50\n",
            "159/159 [==============================] - 2s 11ms/step - loss: 0.4814 - average_precision: 0.6625 - val_loss: 0.3720 - val_average_precision: 0.0937 - lr: 0.0010\n",
            "Epoch 4/50\n",
            "159/159 [==============================] - 2s 10ms/step - loss: 0.4686 - average_precision: 0.6805 - val_loss: 0.3217 - val_average_precision: 0.0920 - lr: 0.0010\n",
            "Epoch 5/50\n",
            "159/159 [==============================] - 2s 10ms/step - loss: 0.4567 - average_precision: 0.6934 - val_loss: 0.3471 - val_average_precision: 0.0916 - lr: 0.0010\n",
            "Epoch 6/50\n",
            "159/159 [==============================] - 1s 7ms/step - loss: 0.4466 - average_precision: 0.7071 - val_loss: 0.4002 - val_average_precision: 0.0971 - lr: 0.0010\n",
            "Epoch 7/50\n",
            "159/159 [==============================] - 1s 7ms/step - loss: 0.4390 - average_precision: 0.7111 - val_loss: 0.3695 - val_average_precision: 0.0987 - lr: 0.0010\n",
            "Epoch 8/50\n",
            "159/159 [==============================] - 1s 7ms/step - loss: 0.4336 - average_precision: 0.7186 - val_loss: 0.3124 - val_average_precision: 0.0976 - lr: 0.0010\n",
            "Epoch 9/50\n",
            "159/159 [==============================] - 1s 7ms/step - loss: 0.4287 - average_precision: 0.7253 - val_loss: 0.2710 - val_average_precision: 0.0970 - lr: 0.0010\n",
            "Epoch 10/50\n",
            "159/159 [==============================] - 1s 7ms/step - loss: 0.4291 - average_precision: 0.7237 - val_loss: 0.3845 - val_average_precision: 0.0989 - lr: 0.0010\n",
            "Epoch 11/50\n",
            "159/159 [==============================] - 1s 7ms/step - loss: 0.4245 - average_precision: 0.7271 - val_loss: 0.3071 - val_average_precision: 0.0972 - lr: 0.0010\n",
            "Epoch 12/50\n",
            "159/159 [==============================] - 1s 7ms/step - loss: 0.4211 - average_precision: 0.7303 - val_loss: 0.3787 - val_average_precision: 0.0915 - lr: 0.0010\n",
            "Epoch 13/50\n",
            "159/159 [==============================] - 1s 7ms/step - loss: 0.4186 - average_precision: 0.7336 - val_loss: 0.3911 - val_average_precision: 0.1044 - lr: 0.0010\n",
            "Epoch 14/50\n",
            "159/159 [==============================] - 1s 8ms/step - loss: 0.4192 - average_precision: 0.7343 - val_loss: 0.3640 - val_average_precision: 0.0984 - lr: 0.0010\n",
            "Epoch 15/50\n",
            "159/159 [==============================] - 2s 11ms/step - loss: 0.4119 - average_precision: 0.7426 - val_loss: 0.3511 - val_average_precision: 0.0998 - lr: 0.0010\n",
            "Epoch 16/50\n",
            "159/159 [==============================] - 2s 10ms/step - loss: 0.4146 - average_precision: 0.7402 - val_loss: 0.3433 - val_average_precision: 0.0984 - lr: 0.0010\n",
            "Epoch 17/50\n",
            "159/159 [==============================] - 1s 9ms/step - loss: 0.4117 - average_precision: 0.7428 - val_loss: 0.3352 - val_average_precision: 0.1161 - lr: 0.0010\n",
            "Epoch 18/50\n",
            "159/159 [==============================] - 1s 7ms/step - loss: 0.4087 - average_precision: 0.7456 - val_loss: 0.3135 - val_average_precision: 0.1125 - lr: 0.0010\n",
            "Epoch 19/50\n",
            "159/159 [==============================] - 1s 7ms/step - loss: 0.4083 - average_precision: 0.7475 - val_loss: 0.3028 - val_average_precision: 0.1100 - lr: 0.0010\n",
            "Epoch 20/50\n",
            "159/159 [==============================] - 1s 7ms/step - loss: 0.4086 - average_precision: 0.7486 - val_loss: 0.3424 - val_average_precision: 0.0995 - lr: 0.0010\n",
            "Epoch 21/50\n",
            "159/159 [==============================] - 1s 7ms/step - loss: 0.4084 - average_precision: 0.7489 - val_loss: 0.3101 - val_average_precision: 0.1124 - lr: 0.0010\n",
            "Epoch 22/50\n",
            "159/159 [==============================] - 1s 7ms/step - loss: 0.4040 - average_precision: 0.7523 - val_loss: 0.3716 - val_average_precision: 0.1075 - lr: 0.0010\n",
            "Epoch 23/50\n",
            "159/159 [==============================] - 1s 7ms/step - loss: 0.4039 - average_precision: 0.7531 - val_loss: 0.3578 - val_average_precision: 0.1147 - lr: 0.0010\n",
            "Epoch 24/50\n",
            "159/159 [==============================] - 1s 7ms/step - loss: 0.4024 - average_precision: 0.7533 - val_loss: 0.3328 - val_average_precision: 0.1090 - lr: 0.0010\n",
            "Epoch 25/50\n",
            "159/159 [==============================] - 1s 7ms/step - loss: 0.4019 - average_precision: 0.7551 - val_loss: 0.3059 - val_average_precision: 0.1187 - lr: 0.0010\n",
            "Epoch 26/50\n",
            "159/159 [==============================] - 1s 9ms/step - loss: 0.3996 - average_precision: 0.7563 - val_loss: 0.3079 - val_average_precision: 0.1039 - lr: 0.0010\n",
            "Epoch 27/50\n",
            "159/159 [==============================] - 2s 11ms/step - loss: 0.4001 - average_precision: 0.7596 - val_loss: 0.3455 - val_average_precision: 0.1167 - lr: 0.0010\n",
            "Epoch 28/50\n",
            "159/159 [==============================] - 2s 10ms/step - loss: 0.3965 - average_precision: 0.7608 - val_loss: 0.3915 - val_average_precision: 0.1169 - lr: 0.0010\n",
            "Epoch 29/50\n",
            "159/159 [==============================] - 1s 9ms/step - loss: 0.3996 - average_precision: 0.7569 - val_loss: 0.3099 - val_average_precision: 0.1217 - lr: 0.0010\n",
            "Epoch 30/50\n",
            "159/159 [==============================] - 1s 7ms/step - loss: 0.3934 - average_precision: 0.7654 - val_loss: 0.3113 - val_average_precision: 0.1167 - lr: 0.0010\n",
            "Epoch 31/50\n",
            "159/159 [==============================] - 1s 7ms/step - loss: 0.3921 - average_precision: 0.7673 - val_loss: 0.3302 - val_average_precision: 0.1327 - lr: 0.0010\n",
            "Epoch 32/50\n",
            "159/159 [==============================] - 1s 7ms/step - loss: 0.3935 - average_precision: 0.7662 - val_loss: 0.2992 - val_average_precision: 0.1169 - lr: 0.0010\n",
            "Epoch 33/50\n",
            "159/159 [==============================] - 1s 7ms/step - loss: 0.3895 - average_precision: 0.7704 - val_loss: 0.3541 - val_average_precision: 0.1238 - lr: 0.0010\n",
            "Epoch 34/50\n",
            "159/159 [==============================] - 1s 7ms/step - loss: 0.3873 - average_precision: 0.7736 - val_loss: 0.3237 - val_average_precision: 0.1127 - lr: 0.0010\n",
            "Epoch 35/50\n",
            "159/159 [==============================] - 1s 7ms/step - loss: 0.3877 - average_precision: 0.7735 - val_loss: 0.3684 - val_average_precision: 0.1178 - lr: 0.0010\n",
            "Epoch 36/50\n",
            "159/159 [==============================] - 1s 7ms/step - loss: 0.3858 - average_precision: 0.7741 - val_loss: 0.3138 - val_average_precision: 0.1258 - lr: 0.0010\n",
            "Epoch 37/50\n",
            "159/159 [==============================] - 1s 7ms/step - loss: 0.3857 - average_precision: 0.7747 - val_loss: 0.3863 - val_average_precision: 0.1112 - lr: 0.0010\n",
            "Epoch 38/50\n",
            "159/159 [==============================] - 1s 9ms/step - loss: 0.3872 - average_precision: 0.7747 - val_loss: 0.3672 - val_average_precision: 0.1163 - lr: 0.0010\n",
            "Epoch 39/50\n",
            "159/159 [==============================] - 2s 10ms/step - loss: 0.3833 - average_precision: 0.7788 - val_loss: 0.4075 - val_average_precision: 0.1218 - lr: 0.0010\n",
            "Epoch 40/50\n",
            "159/159 [==============================] - 2s 10ms/step - loss: 0.3827 - average_precision: 0.7795 - val_loss: 0.3194 - val_average_precision: 0.1186 - lr: 0.0010\n",
            "Epoch 41/50\n",
            "159/159 [==============================] - 1s 9ms/step - loss: 0.3819 - average_precision: 0.7815 - val_loss: 0.3998 - val_average_precision: 0.1262 - lr: 0.0010\n",
            "Epoch 42/50\n",
            "159/159 [==============================] - 1s 7ms/step - loss: 0.3787 - average_precision: 0.7842 - val_loss: 0.3651 - val_average_precision: 0.1205 - lr: 0.0010\n",
            "Epoch 43/50\n",
            "159/159 [==============================] - 1s 7ms/step - loss: 0.3788 - average_precision: 0.7850 - val_loss: 0.3347 - val_average_precision: 0.1200 - lr: 0.0010\n",
            "Epoch 44/50\n",
            "159/159 [==============================] - 1s 7ms/step - loss: 0.3772 - average_precision: 0.7860 - val_loss: 0.3640 - val_average_precision: 0.1177 - lr: 0.0010\n",
            "Epoch 45/50\n",
            "159/159 [==============================] - 2s 10ms/step - loss: 0.3773 - average_precision: 0.7868 - val_loss: 0.3211 - val_average_precision: 0.1384 - lr: 0.0010\n",
            "Epoch 46/50\n",
            "159/159 [==============================] - 1s 7ms/step - loss: 0.3760 - average_precision: 0.7891 - val_loss: 0.3170 - val_average_precision: 0.1207 - lr: 0.0010\n",
            "Epoch 47/50\n",
            "159/159 [==============================] - 1s 7ms/step - loss: 0.3761 - average_precision: 0.7871 - val_loss: 0.2970 - val_average_precision: 0.1322 - lr: 0.0010\n",
            "Epoch 48/50\n",
            "159/159 [==============================] - 1s 7ms/step - loss: 0.3736 - average_precision: 0.7899 - val_loss: 0.2972 - val_average_precision: 0.1249 - lr: 0.0010\n",
            "Epoch 49/50\n",
            "159/159 [==============================] - 1s 7ms/step - loss: 0.3740 - average_precision: 0.7893 - val_loss: 0.3057 - val_average_precision: 0.1413 - lr: 0.0010\n",
            "Epoch 50/50\n",
            "159/159 [==============================] - 2s 10ms/step - loss: 0.3714 - average_precision: 0.7918 - val_loss: 0.3045 - val_average_precision: 0.1259 - lr: 0.0010\n"
          ]
        }
      ],
      "source": [
        "history1 = model.fit(training_input,training_output,batch_size=600,epochs=50,\n",
        "                    shuffle=True,callbacks=my_lr_scheduler,validation_data=(val_input,val_output))\n"
      ]
    },
    {
      "cell_type": "code",
      "execution_count": 16,
      "metadata": {
        "colab": {
          "base_uri": "https://localhost:8080/",
          "height": 492
        },
        "id": "p_hrqwmacjNT",
        "outputId": "c0b2461e-318c-4b7a-8fec-dfdff5b668e4"
      },
      "outputs": [
        {
          "output_type": "display_data",
          "data": {
            "text/plain": [
              "<Figure size 1200x600 with 2 Axes>"
            ],
            "image/png": "[encoded data removed]"
          },
          "metadata": {}
        }
      ],
      "source": [
        "# Visualization of the model\n",
        "\n",
        "import matplotlib.pyplot as plt\n",
        "\n",
        "# plot fonction perte\n",
        "\n",
        "loss=history1.history['loss']\n",
        "\n",
        "val_loss = history1.history['val_loss']\n",
        "epochs = range(1,len(loss)+1)\n",
        "\n",
        "plt.figure(figsize=(12,6))\n",
        "\n",
        "\n",
        "plt.subplot(1,2,1)\n",
        "plt.plot(epochs, loss, 'bo', label = 'Entrainement')\n",
        "plt.plot(epochs, val_loss, 'b', label='Validation')\n",
        "plt.title('Perte pendant l\\'entrainement et la validation')\n",
        "plt.xlabel('Nombre d\\'époques')\n",
        "plt.ylabel('Loss')\n",
        "plt.legend()\n",
        "\n",
        "# plot precision du model\n",
        "\n",
        "avp = history1.history['average_precision']\n",
        "val_avp = history1.history['val_average_precision']\n",
        "\n",
        "plt.subplot(1,2,2)\n",
        "plt.plot(epochs,avp,'bo',label='Entrainement')\n",
        "plt.plot(epochs, val_avp, 'b', label='Validation')\n",
        "plt.title('Average Précision pendant l\\'entrainement et la validation')\n",
        "plt.xlabel('Nombre d\\'époques')\n",
        "plt.ylabel('Average Precision')\n",
        "plt.legend()\n",
        "plt.savefig('loss_accuracy_model.jpg')\n",
        "plt.show()"
      ]
    },
    {
      "cell_type": "code",
      "execution_count": 17,
      "metadata": {
        "colab": {
          "base_uri": "https://localhost:8080/"
        },
        "id": "ILbYZJ9kcjNT",
        "outputId": "e162e2f9-da71-4481-f68e-7cb25a16a9e7"
      },
      "outputs": [
        {
          "output_type": "stream",
          "name": "stdout",
          "text": [
            "290/290 [==============================] - 1s 2ms/step\n",
            "There are  1069  labels (1) predicted\n",
            "There are  134  labels (1) in the reality\n",
            "Neural Network PR-AUC =  0.08246460104576724\n"
          ]
        }
      ],
      "source": [
        "# Validation of model performance with new data\n",
        "\n",
        "y_pred = model.predict(test_input)\n",
        "\n",
        "counter_p = len([valor for valor in y_pred if valor > 0.5])\n",
        "counter_r = len([valor_r for valor_r in test_output if valor_r > 0.5])\n",
        "print('There are ',counter_p, ' labels (1) predicted')\n",
        "print('There are ',counter_r, ' labels (1) in the reality')\n",
        "\n",
        "print('Neural Network PR-AUC = ',average_precision_score(test_output,y_pred))"
      ]
    },
    {
      "cell_type": "markdown",
      "metadata": {
        "id": "cJZRSDZOcjNT"
      },
      "source": [
        "Training with all the data"
      ]
    },
    {
      "cell_type": "code",
      "execution_count": 18,
      "metadata": {
        "id": "EaHYqHolcjNU"
      },
      "outputs": [],
      "source": [
        "training_input = np.vstack((training_input,val_input))\n",
        "training_output = np.vstack((training_output,val_output))"
      ]
    },
    {
      "cell_type": "code",
      "execution_count": 19,
      "metadata": {
        "colab": {
          "base_uri": "https://localhost:8080/"
        },
        "id": "_7tf8QMScjNU",
        "outputId": "d57cce04-b97e-4bcd-e767-217860e93cd5"
      },
      "outputs": [
        {
          "output_type": "stream",
          "name": "stdout",
          "text": [
            "Epoch 1/50\n",
            "190/190 [==============================] - 1s 6ms/step - loss: 0.3624 - average_precision: 0.7506 - lr: 0.0010\n",
            "Epoch 2/50\n",
            "190/190 [==============================] - 1s 6ms/step - loss: 0.3571 - average_precision: 0.7547 - lr: 0.0010\n",
            "Epoch 3/50\n",
            "190/190 [==============================] - 1s 6ms/step - loss: 0.3562 - average_precision: 0.7539 - lr: 0.0010\n",
            "Epoch 4/50\n",
            "190/190 [==============================] - 1s 6ms/step - loss: 0.3529 - average_precision: 0.7583 - lr: 0.0010\n",
            "Epoch 5/50\n",
            "190/190 [==============================] - 1s 6ms/step - loss: 0.3566 - average_precision: 0.7551 - lr: 0.0010\n",
            "Epoch 6/50\n",
            "190/190 [==============================] - 1s 6ms/step - loss: 0.3527 - average_precision: 0.7593 - lr: 0.0010\n",
            "Epoch 7/50\n",
            "190/190 [==============================] - 1s 6ms/step - loss: 0.3514 - average_precision: 0.7606 - lr: 0.0010\n",
            "Epoch 8/50\n",
            "190/190 [==============================] - 2s 9ms/step - loss: 0.3528 - average_precision: 0.7590 - lr: 0.0010\n",
            "Epoch 9/50\n",
            "190/190 [==============================] - 2s 9ms/step - loss: 0.3506 - average_precision: 0.7612 - lr: 0.0010\n",
            "Epoch 10/50\n",
            "190/190 [==============================] - 2s 9ms/step - loss: 0.3493 - average_precision: 0.7643 - lr: 0.0010\n",
            "Epoch 11/50\n",
            "190/190 [==============================] - 1s 6ms/step - loss: 0.3500 - average_precision: 0.7624 - lr: 0.0010\n",
            "Epoch 12/50\n",
            "190/190 [==============================] - 1s 6ms/step - loss: 0.3469 - average_precision: 0.7660 - lr: 0.0010\n",
            "Epoch 13/50\n",
            "190/190 [==============================] - 1s 6ms/step - loss: 0.3489 - average_precision: 0.7648 - lr: 0.0010\n",
            "Epoch 14/50\n",
            "190/190 [==============================] - 1s 6ms/step - loss: 0.3448 - average_precision: 0.7692 - lr: 0.0010\n",
            "Epoch 15/50\n",
            "190/190 [==============================] - 1s 6ms/step - loss: 0.3469 - average_precision: 0.7666 - lr: 0.0010\n",
            "Epoch 16/50\n",
            "190/190 [==============================] - 1s 6ms/step - loss: 0.3495 - average_precision: 0.7623 - lr: 0.0010\n",
            "Epoch 17/50\n",
            "190/190 [==============================] - 1s 6ms/step - loss: 0.3444 - average_precision: 0.7688 - lr: 0.0010\n",
            "Epoch 18/50\n",
            "190/190 [==============================] - 1s 6ms/step - loss: 0.3463 - average_precision: 0.7673 - lr: 0.0010\n",
            "Epoch 19/50\n",
            "190/190 [==============================] - 1s 7ms/step - loss: 0.3445 - average_precision: 0.7692 - lr: 0.0010\n",
            "Epoch 20/50\n",
            "190/190 [==============================] - 2s 9ms/step - loss: 0.3446 - average_precision: 0.7700 - lr: 0.0010\n",
            "Epoch 21/50\n",
            "190/190 [==============================] - 2s 9ms/step - loss: 0.3434 - average_precision: 0.7714 - lr: 0.0010\n",
            "Epoch 22/50\n",
            "190/190 [==============================] - 1s 8ms/step - loss: 0.3451 - average_precision: 0.7694 - lr: 0.0010\n",
            "Epoch 23/50\n",
            "190/190 [==============================] - 1s 6ms/step - loss: 0.3438 - average_precision: 0.7692 - lr: 0.0010\n",
            "Epoch 24/50\n",
            "190/190 [==============================] - 1s 6ms/step - loss: 0.3404 - average_precision: 0.7743 - lr: 0.0010\n",
            "Epoch 25/50\n",
            "190/190 [==============================] - 1s 6ms/step - loss: 0.3400 - average_precision: 0.7743 - lr: 0.0010\n",
            "Epoch 26/50\n",
            "190/190 [==============================] - 1s 6ms/step - loss: 0.3399 - average_precision: 0.7760 - lr: 0.0010\n",
            "Epoch 27/50\n",
            "190/190 [==============================] - 1s 6ms/step - loss: 0.3400 - average_precision: 0.7755 - lr: 0.0010\n",
            "Epoch 28/50\n",
            "190/190 [==============================] - 1s 6ms/step - loss: 0.3381 - average_precision: 0.7778 - lr: 0.0010\n",
            "Epoch 29/50\n",
            "190/190 [==============================] - 1s 6ms/step - loss: 0.3396 - average_precision: 0.7753 - lr: 0.0010\n",
            "Epoch 30/50\n",
            "190/190 [==============================] - 1s 6ms/step - loss: 0.3383 - average_precision: 0.7774 - lr: 0.0010\n",
            "Epoch 31/50\n",
            "190/190 [==============================] - 2s 8ms/step - loss: 0.3390 - average_precision: 0.7770 - lr: 0.0010\n",
            "Epoch 32/50\n",
            "190/190 [==============================] - 2s 9ms/step - loss: 0.3387 - average_precision: 0.7772 - lr: 0.0010\n",
            "Epoch 33/50\n",
            "190/190 [==============================] - 2s 9ms/step - loss: 0.3367 - average_precision: 0.7784 - lr: 0.0010\n",
            "Epoch 34/50\n",
            "190/190 [==============================] - 1s 7ms/step - loss: 0.3351 - average_precision: 0.7818 - lr: 0.0010\n",
            "Epoch 35/50\n",
            "190/190 [==============================] - 1s 6ms/step - loss: 0.3360 - average_precision: 0.7795 - lr: 0.0010\n",
            "Epoch 36/50\n",
            "190/190 [==============================] - 1s 6ms/step - loss: 0.3356 - average_precision: 0.7806 - lr: 0.0010\n",
            "Epoch 37/50\n",
            "190/190 [==============================] - 1s 6ms/step - loss: 0.3352 - average_precision: 0.7823 - lr: 0.0010\n",
            "Epoch 38/50\n",
            "190/190 [==============================] - 1s 6ms/step - loss: 0.3363 - average_precision: 0.7805 - lr: 0.0010\n",
            "Epoch 39/50\n",
            "190/190 [==============================] - 1s 6ms/step - loss: 0.3361 - average_precision: 0.7790 - lr: 0.0010\n",
            "Epoch 40/50\n",
            "190/190 [==============================] - 1s 6ms/step - loss: 0.3336 - average_precision: 0.7834 - lr: 0.0010\n",
            "Epoch 41/50\n",
            "190/190 [==============================] - 1s 6ms/step - loss: 0.3348 - average_precision: 0.7831 - lr: 0.0010\n",
            "Epoch 42/50\n",
            "190/190 [==============================] - 1s 7ms/step - loss: 0.3337 - average_precision: 0.7841 - lr: 0.0010\n",
            "Epoch 43/50\n",
            "190/190 [==============================] - 2s 9ms/step - loss: 0.3326 - average_precision: 0.7847 - lr: 0.0010\n",
            "Epoch 44/50\n",
            "190/190 [==============================] - 2s 9ms/step - loss: 0.3299 - average_precision: 0.7874 - lr: 0.0010\n",
            "Epoch 45/50\n",
            "190/190 [==============================] - 2s 8ms/step - loss: 0.3307 - average_precision: 0.7871 - lr: 0.0010\n",
            "Epoch 46/50\n",
            "190/190 [==============================] - 1s 6ms/step - loss: 0.3316 - average_precision: 0.7855 - lr: 0.0010\n",
            "Epoch 47/50\n",
            "190/190 [==============================] - 1s 6ms/step - loss: 0.3311 - average_precision: 0.7864 - lr: 0.0010\n",
            "Epoch 48/50\n",
            "190/190 [==============================] - 1s 6ms/step - loss: 0.3301 - average_precision: 0.7876 - lr: 0.0010\n",
            "Epoch 49/50\n",
            "190/190 [==============================] - 1s 6ms/step - loss: 0.3284 - average_precision: 0.7900 - lr: 0.0010\n",
            "Epoch 50/50\n",
            "190/190 [==============================] - 1s 6ms/step - loss: 0.3285 - average_precision: 0.7904 - lr: 0.0010\n"
          ]
        }
      ],
      "source": [
        "history1 = model.fit(training_input,training_output,batch_size=600,epochs=50,\n",
        "                    shuffle=True,callbacks=my_lr_scheduler)"
      ]
    },
    {
      "cell_type": "markdown",
      "metadata": {
        "id": "3y0SwxY8cjNU"
      },
      "source": [
        "TRATMENT OF THE TEST DATA"
      ]
    },
    {
      "cell_type": "code",
      "execution_count": 20,
      "metadata": {
        "colab": {
          "base_uri": "https://localhost:8080/"
        },
        "id": "QMJfHGn8cjNV",
        "outputId": "c2f43b6d-036d-4af8-8e1d-2a3c1b20f1cf"
      },
      "outputs": [
        {
          "output_type": "stream",
          "name": "stderr",
          "text": [
            "<ipython-input-20-ca161c5edde8>:1: DtypeWarning: Columns (20,21,22,23,24,68,69,70,71,72,92,93,94,95,96,97,106,107,108,109,110,111,112,113,114,115,116,117,118) have mixed types. Specify dtype option on import or set low_memory=False.\n",
            "  test_Dataframe = pd.read_csv('/content/drive/MyDrive/Colab Notebooks/Challenge_data_BNP/X_test_8skS2ey.csv')\n"
          ]
        }
      ],
      "source": [
        "test_Dataframe = pd.read_csv('/content/drive/MyDrive/Colab Notebooks/Challenge_data_BNP/X_test_8skS2ey.csv')\n",
        "test = test_Dataframe.copy()\n",
        "\n",
        "# Loop for that assign a each unique categorical value a number and after it reeplace the categorical value for this number\n",
        "\n",
        "for count_1 in range(0,4):\n",
        "\n",
        "    # dictionary\n",
        "    dic_map_1 = list_dic_map[count_1]\n",
        "\n",
        "    # Replace the values in dataframe\n",
        "\n",
        "    for colob_1 in range(0,24):\n",
        "        test[list_col_object[colob_1+count_1*24]] = test[list_col_object[colob_1+count_1*24]].map(dic_map_1)"
      ]
    },
    {
      "cell_type": "code",
      "execution_count": 21,
      "metadata": {
        "id": "jmoRFKZ-cjNV"
      },
      "outputs": [],
      "source": [
        "# Reemplace the 0 in the converted columns to his true value NaN\n",
        "test[list_col_object] = test[list_col_object].replace(0,np.nan)\n",
        "\n",
        "# we put out the columns that not contribute to the prediction\n",
        "test = test.drop('ID',axis=1)"
      ]
    },
    {
      "cell_type": "code",
      "execution_count": 22,
      "metadata": {
        "colab": {
          "base_uri": "https://localhost:8080/"
        },
        "id": "zaBNV09UcjNV",
        "outputId": "7504d9d9-0a42-4a09-c4da-07b21bd58e2c"
      },
      "outputs": [
        {
          "output_type": "stream",
          "name": "stdout",
          "text": [
            "(23198, 145)\n",
            "3095028\n"
          ]
        }
      ],
      "source": [
        "dataX = np.array(test)\n",
        "\n",
        "print(dataX.shape)\n",
        "\n",
        "print(np.sum(np.isnan(dataX)))"
      ]
    },
    {
      "cell_type": "code",
      "execution_count": 23,
      "metadata": {
        "id": "WTlksGQ-cjNV"
      },
      "outputs": [],
      "source": [
        "# Remplace the NaN values\n",
        "\n",
        "constant_imputer = SimpleImputer(strategy='constant')\n",
        "dataX_imp = constant_imputer.fit_transform(dataX)\n",
        "\n",
        "# normalizacion\n",
        "\n",
        "scaler = MinMaxScaler(feature_range=(0, 1))\n",
        "dataX_test = scaler.fit_transform(dataX_imp)"
      ]
    },
    {
      "cell_type": "markdown",
      "metadata": {
        "id": "k2K9_BdgcjNV"
      },
      "source": [
        "PREDICTION AND GENERATION OF THE Y TEST"
      ]
    },
    {
      "cell_type": "code",
      "execution_count": 24,
      "metadata": {
        "colab": {
          "base_uri": "https://localhost:8080/"
        },
        "id": "i9I9gYzCcjNV",
        "outputId": "5ef5e4c8-9ad2-4db3-8390-6fd5bcd8c553"
      },
      "outputs": [
        {
          "output_type": "stream",
          "name": "stdout",
          "text": [
            "725/725 [==============================] - 2s 2ms/step\n",
            "There are  986  labels (1) predicted\n",
            "[[1.1603824e-04]\n",
            " [1.0507968e-04]\n",
            " [2.0072751e-01]\n",
            " ...\n",
            " [3.8464025e-03]\n",
            " [4.0436225e-06]\n",
            " [4.4987777e-01]]\n"
          ]
        }
      ],
      "source": [
        "# Prediction\n",
        "\n",
        "y_pred = model.predict(dataX_test)\n",
        "\n",
        "counter_p = len([valor for valor in y_pred if valor > 0.5])\n",
        "print('There are ',counter_p, ' labels (1) predicted')\n",
        "\n",
        "Y_test = pd.DataFrame(np.column_stack([test_Dataframe['ID'],y_pred]),columns=['ID','fraud_flag'])\n",
        "Y_test.to_csv('Y_test.csv', index=True,index_label='index')\n",
        "print(y_pred)"
      ]
    }
  ],
  "metadata": {
    "kernelspec": {
      "display_name": "Python 3",
      "name": "python3"
    },
    "language_info": {
      "codemirror_mode": {
        "name": "ipython",
        "version": 3
      },
      "file_extension": ".py",
      "mimetype": "text/x-python",
      "name": "python",
      "nbconvert_exporter": "python",
      "pygments_lexer": "ipython3",
      "version": "3.10.11"
    },
    "colab": {
      "provenance": [],
      "gpuType": "T4"
    },
    "accelerator": "GPU"
  },
  "nbformat": 4,
  "nbformat_minor": 0
}