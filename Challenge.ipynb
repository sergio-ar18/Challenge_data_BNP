{
 "cells": [
  {
   "cell_type": "code",
   "execution_count": 1,
   "metadata": {},
   "outputs": [],
   "source": [
    "import pandas as pd\n",
    "import numpy as np"
   ]
  },
  {
   "cell_type": "code",
   "execution_count": 2,
   "metadata": {},
   "outputs": [
    {
     "name": "stderr",
     "output_type": "stream",
     "text": [
      "/var/folders/11/vh5hxzpd6kn7s0r70j_p9bd80000gn/T/ipykernel_25758/2266204275.py:1: DtypeWarning: Columns (21,22,23,24,69,70,71,72,93,94,95,96,97,104,105,106,107,108,109,110,111,112,113,114,115,116,117,118,119,120) have mixed types. Specify dtype option on import or set low_memory=False.\n",
      "  dataframe = pd.read_csv('X_train_G3tdtEn.csv')\n"
     ]
    }
   ],
   "source": [
    "dataframe = pd.read_csv('X_train_G3tdtEn.csv')\n",
    "test_Dataframe = pd.read_csv('X_test_8skS2ey.csv')\n",
    "data_Y = pd.read_csv('Y_train_2_XPXJDyy.csv')\n",
    "\n",
    "df = dataframe.copy()\n",
    "\n",
    "## change of the categorical data to numbers\n",
    "\n",
    "list_uniqueLabel = []\n",
    "list_col_object = []\n",
    "list_dic_map = []\n",
    "# Loop for that assign a each unique categorical value a number and after it reeplace the categorical value for this number\n",
    "for col in df.columns:\n",
    "    if df[col].dtypes == object:\n",
    "        list_col_object.append(col)\n",
    "\n",
    "\n",
    "for count in range(0,4):\n",
    "\n",
    "    concate = pd.concat([dataframe[colum] for colum in list_col_object[(count*24):((count+1)*24)]])\n",
    "    concate = pd.concat([test_Dataframe[columt] for columt in list_col_object[(count*24):((count+1)*24)]])\n",
    "    concate = pd.concat([pd.Series([np.nan]),concate])\n",
    "\n",
    "    list_uniqueLabel.append(concate.unique())\n",
    "\n",
    "    # dictionary\n",
    "    dic_map = {label : index for index, label in enumerate(list_uniqueLabel[-1])}\n",
    "    \n",
    "    # Replace the values in dataframe\n",
    "\n",
    "    for colob in range(0,24):\n",
    "        df[list_col_object[colob+count*24]] = df[list_col_object[colob+count*24]].map(dic_map)\n",
    "\n",
    "    list_dic_map.append(dic_map.copy())\n",
    "    dic_map.clear()\n"
   ]
  },
  {
   "cell_type": "code",
   "execution_count": 3,
   "metadata": {},
   "outputs": [
    {
     "name": "stdout",
     "output_type": "stream",
     "text": [
      "True\n"
     ]
    }
   ],
   "source": [
    "# Reemplace the 0 in the converted columns to his true value NaN \n",
    "df[list_col_object] = df[list_col_object].replace(0,np.nan)\n",
    "\n",
    "# Verification exact coincidence\n",
    "\n",
    "exact_coincidence = (df['ID'] == data_Y['ID']).all()\n",
    "print(exact_coincidence)\n",
    "\n",
    "# we put out the columns that not contribute to the prediction\n",
    "\n",
    "df = df.drop('ID',axis=1)\n",
    "data_Y = data_Y.drop(['index','ID'], axis=1)"
   ]
  },
  {
   "cell_type": "code",
   "execution_count": 4,
   "metadata": {},
   "outputs": [
    {
     "name": "stdout",
     "output_type": "stream",
     "text": [
      "(92790, 145)\n",
      "(92790, 1)\n",
      "12384164\n"
     ]
    }
   ],
   "source": [
    "dataX = np.array(df)\n",
    "dataY = np.array(data_Y)\n",
    "\n",
    "print(dataX.shape)\n",
    "print(dataY.shape)\n",
    "\n",
    "print(np.sum(np.isnan(dataX)))"
   ]
  },
  {
   "cell_type": "code",
   "execution_count": 5,
   "metadata": {},
   "outputs": [],
   "source": [
    "from sklearn.model_selection import train_test_split\n",
    "from sklearn.preprocessing import MinMaxScaler\n",
    "from sklearn.impute import SimpleImputer\n",
    "\n",
    "# Remplace the NaN values\n",
    "\n",
    "constant_imputer = SimpleImputer(strategy='constant')\n",
    "dataX_imp = constant_imputer.fit_transform(dataX)\n",
    "\n",
    "# normalizacion \n",
    "\n",
    "scaler = MinMaxScaler(feature_range=(0, 1))\n",
    "dataX_n = scaler.fit_transform(dataX_imp)\n",
    "\n",
    "# split of data for training and test\n",
    "\n",
    "training_input_temp,test_input,training_output_temp,test_output = train_test_split(dataX_n, dataY, test_size=0.1)\n",
    "training_input_t,val_input,training_output_t,val_output = train_test_split(training_input_temp, training_output_temp, test_size=0.222)\n"
   ]
  },
  {
   "cell_type": "code",
   "execution_count": 6,
   "metadata": {},
   "outputs": [
    {
     "name": "stdout",
     "output_type": "stream",
     "text": [
      "Valor: [0 1], Frecuencia: [9157  122]\n"
     ]
    }
   ],
   "source": [
    "\n",
    "unique_values, freq = np.unique(test_output, return_counts=True)\n",
    "\n",
    "# Show results\n",
    "print(f\"Valor: {unique_values}, Frecuencia: {freq}\")"
   ]
  },
  {
   "cell_type": "code",
   "execution_count": 7,
   "metadata": {},
   "outputs": [
    {
     "name": "stdout",
     "output_type": "stream",
     "text": [
      "Valor: [0 1], Frecuencia: [18253   287]\n"
     ]
    }
   ],
   "source": [
    "unique_values, freq = np.unique(val_output, return_counts=True)\n",
    "\n",
    "# Show results\n",
    "print(f\"Valor: {unique_values}, Frecuencia: {freq}\")"
   ]
  },
  {
   "cell_type": "code",
   "execution_count": 8,
   "metadata": {},
   "outputs": [
    {
     "name": "stdout",
     "output_type": "stream",
     "text": [
      "class distribution before SMOTE\n",
      "fraud_flag\n",
      "0    64061\n",
      "1      910\n",
      "Name: count, dtype: int64\n",
      "\n",
      "\n",
      "class distribution after SMOTE\n",
      "fraud_flag\n",
      "0    64061\n",
      "1    30940\n",
      "Name: count, dtype: int64\n",
      "(64971, 145)\n",
      "(95001, 145)\n"
     ]
    }
   ],
   "source": [
    "\n",
    "# SMOTE tecnique (Syntetic geenration of data)\n",
    "\n",
    "from imblearn.over_sampling import SMOTE\n",
    "\n",
    "# Return to dataframe\n",
    "\n",
    "df_train = pd.DataFrame(training_input_t,columns=df.columns)\n",
    "datY_train = pd.DataFrame(training_output_t,columns=data_Y.columns)\n",
    "\n",
    "# Aplication of SMOTE only in the training data (test is with the original values)\n",
    "\n",
    "count_minoritary_class = len(datY_train[datY_train['fraud_flag'] == 1])\n",
    "smote = SMOTE(sampling_strategy={1:(34*count_minoritary_class)}, random_state=42) # the {1:4} means have the class with label 1, 4 times, so increase 3 values\n",
    "\n",
    "df_smote,data_y_smote = smote.fit_resample(df_train,datY_train)\n",
    "\n",
    "# Print number each class\n",
    "print('class distribution before SMOTE')\n",
    "print(datY_train['fraud_flag'].value_counts())\n",
    "print('\\n')\n",
    "print('class distribution after SMOTE')\n",
    "print(data_y_smote['fraud_flag'].value_counts())\n",
    "\n",
    "print(df_train.shape)\n",
    "print(df_smote.shape)\n",
    "\n",
    "# Conversion to array\n",
    "dataX_a = np.array(df_smote)\n",
    "dataY_a = np.array(data_y_smote)\n",
    "\n",
    "# Determination of training data\n",
    "training_input,training_output = dataX_a,dataY_a"
   ]
  },
  {
   "cell_type": "code",
   "execution_count": 9,
   "metadata": {},
   "outputs": [],
   "source": [
    "import tensorflow as tf\n",
    "\n",
    "# Function to improve the learning rate\n",
    "\n",
    "def adapt_learning_rate(epoch):\n",
    "    lr=0.001\n",
    "    if epoch>100:\n",
    "        lr=0.0001\n",
    "    if epoch>200:\n",
    "        lr=0.00005\n",
    "    if epoch>240:\n",
    "        lr=0.00001\n",
    "    if epoch>700:\n",
    "        lr=0.000005\n",
    "\n",
    "    return lr\n",
    "\n",
    "my_lr_scheduler = tf.keras.callbacks.LearningRateScheduler(adapt_learning_rate)"
   ]
  },
  {
   "cell_type": "code",
   "execution_count": 10,
   "metadata": {},
   "outputs": [
    {
     "name": "stdout",
     "output_type": "stream",
     "text": [
      "Model: \"sequential\"\n",
      "_________________________________________________________________\n",
      " Layer (type)                Output Shape              Param #   \n",
      "=================================================================\n",
      " dense (Dense)               (None, 100)               14600     \n",
      "                                                                 \n",
      " dense_1 (Dense)             (None, 200)               20200     \n",
      "                                                                 \n",
      " dropout (Dropout)           (None, 200)               0         \n",
      "                                                                 \n",
      " dense_2 (Dense)             (None, 250)               50250     \n",
      "                                                                 \n",
      " dropout_1 (Dropout)         (None, 250)               0         \n",
      "                                                                 \n",
      " dense_3 (Dense)             (None, 500)               125500    \n",
      "                                                                 \n",
      " dropout_2 (Dropout)         (None, 500)               0         \n",
      "                                                                 \n",
      " dense_4 (Dense)             (None, 250)               125250    \n",
      "                                                                 \n",
      " dropout_3 (Dropout)         (None, 250)               0         \n",
      "                                                                 \n",
      " dense_5 (Dense)             (None, 150)               37650     \n",
      "                                                                 \n",
      " dense_6 (Dense)             (None, 1)                 151       \n",
      "                                                                 \n",
      "=================================================================\n",
      "Total params: 373601 (1.43 MB)\n",
      "Trainable params: 373601 (1.43 MB)\n",
      "Non-trainable params: 0 (0.00 Byte)\n",
      "_________________________________________________________________\n",
      "None\n"
     ]
    }
   ],
   "source": [
    "# Neural Network\n",
    "\n",
    "from keras.models import Sequential\n",
    "from keras.layers import Dense\n",
    "from keras.layers import Dropout\n",
    "\n",
    "# Network\n",
    "\n",
    "model = Sequential()\n",
    "\n",
    "model.add(tf.keras.layers.InputLayer(input_shape=(145,)))\n",
    "model.add(Dense(100,activation='relu'))\n",
    "model.add(Dense(200,activation='tanh'))\n",
    "model.add(Dropout(0.2))\n",
    "model.add(Dense(250,activation='selu'))\n",
    "model.add(Dropout(0.2))\n",
    "model.add(Dense(500,activation='elu'))\n",
    "model.add(Dropout(0.4))\n",
    "model.add(Dense(250,activation='selu'))\n",
    "model.add(Dropout(0.2))\n",
    "model.add(Dense(150,activation='relu'))\n",
    "model.add(Dense(1,activation='sigmoid')) # Output\n",
    "\n",
    "print(model.summary())"
   ]
  },
  {
   "cell_type": "code",
   "execution_count": 11,
   "metadata": {},
   "outputs": [],
   "source": [
    "from sklearn.metrics import average_precision_score\n",
    "\n",
    "# Define the metric average_precision as a personalised function\n",
    "def average_precision(y_true, y_pred):\n",
    "    return tf.py_function(average_precision_score, (y_true, y_pred), tf.float64)"
   ]
  },
  {
   "cell_type": "code",
   "execution_count": 12,
   "metadata": {},
   "outputs": [],
   "source": [
    "model.compile(optimizer='adam',\n",
    "                loss=tf.keras.losses.BinaryCrossentropy(from_logits=True),\n",
    "                metrics=[average_precision])"
   ]
  },
  {
   "cell_type": "code",
   "execution_count": 13,
   "metadata": {},
   "outputs": [
    {
     "name": "stdout",
     "output_type": "stream",
     "text": [
      "Epoch 1/50\n"
     ]
    },
    {
     "name": "stderr",
     "output_type": "stream",
     "text": [
      "/Library/Frameworks/Python.framework/Versions/3.10/lib/python3.10/site-packages/keras/src/backend.py:5820: UserWarning: \"`binary_crossentropy` received `from_logits=True`, but the `output` argument was produced by a Sigmoid activation and thus does not represent logits. Was this intended?\n",
      "  output, from_logits = _get_logits(\n"
     ]
    },
    {
     "name": "stdout",
     "output_type": "stream",
     "text": [
      "157/159 [============================>.] - ETA: 0s - loss: 0.5650 - average_precision: 0.5289"
     ]
    },
    {
     "name": "stderr",
     "output_type": "stream",
     "text": [
      "/Library/Frameworks/Python.framework/Versions/3.10/lib/python3.10/site-packages/keras/src/backend.py:5820: UserWarning: \"`binary_crossentropy` received `from_logits=True`, but the `output` argument was produced by a Sigmoid activation and thus does not represent logits. Was this intended?\n",
      "  output, from_logits = _get_logits(\n"
     ]
    },
    {
     "name": "stdout",
     "output_type": "stream",
     "text": [
      "159/159 [==============================] - 4s 25ms/step - loss: 0.5644 - average_precision: 0.5303 - val_loss: 0.3754 - val_average_precision: 0.0968 - lr: 0.0010\n",
      "Epoch 2/50\n",
      "159/159 [==============================] - 4s 26ms/step - loss: 0.5059 - average_precision: 0.6358 - val_loss: 0.4672 - val_average_precision: 0.1210 - lr: 0.0010\n",
      "Epoch 3/50\n",
      "159/159 [==============================] - 3s 21ms/step - loss: 0.4795 - average_precision: 0.6695 - val_loss: 0.3333 - val_average_precision: 0.1275 - lr: 0.0010\n",
      "Epoch 4/50\n",
      "159/159 [==============================] - 3s 21ms/step - loss: 0.4693 - average_precision: 0.6811 - val_loss: 0.3508 - val_average_precision: 0.1449 - lr: 0.0010\n",
      "Epoch 5/50\n",
      "159/159 [==============================] - 4s 22ms/step - loss: 0.4615 - average_precision: 0.6898 - val_loss: 0.3752 - val_average_precision: 0.1176 - lr: 0.0010\n",
      "Epoch 6/50\n",
      "159/159 [==============================] - 3s 19ms/step - loss: 0.4514 - average_precision: 0.7029 - val_loss: 0.3116 - val_average_precision: 0.1100 - lr: 0.0010\n",
      "Epoch 7/50\n",
      "159/159 [==============================] - 3s 20ms/step - loss: 0.4503 - average_precision: 0.7049 - val_loss: 0.3034 - val_average_precision: 0.1228 - lr: 0.0010\n",
      "Epoch 8/50\n",
      "159/159 [==============================] - 3s 20ms/step - loss: 0.4445 - average_precision: 0.7144 - val_loss: 0.3276 - val_average_precision: 0.1302 - lr: 0.0010\n",
      "Epoch 9/50\n",
      "159/159 [==============================] - 3s 22ms/step - loss: 0.4361 - average_precision: 0.7223 - val_loss: 0.2663 - val_average_precision: 0.0994 - lr: 0.0010\n",
      "Epoch 10/50\n",
      "159/159 [==============================] - 4s 25ms/step - loss: 0.4294 - average_precision: 0.7291 - val_loss: 0.2956 - val_average_precision: 0.1252 - lr: 0.0010\n",
      "Epoch 11/50\n",
      "159/159 [==============================] - 3s 19ms/step - loss: 0.4244 - average_precision: 0.7337 - val_loss: 0.3419 - val_average_precision: 0.1410 - lr: 0.0010\n",
      "Epoch 12/50\n",
      "159/159 [==============================] - 3s 22ms/step - loss: 0.4226 - average_precision: 0.7356 - val_loss: 0.3055 - val_average_precision: 0.1252 - lr: 0.0010\n",
      "Epoch 13/50\n",
      "159/159 [==============================] - 4s 24ms/step - loss: 0.4183 - average_precision: 0.7402 - val_loss: 0.3045 - val_average_precision: 0.1324 - lr: 0.0010\n",
      "Epoch 14/50\n",
      "159/159 [==============================] - 4s 24ms/step - loss: 0.4152 - average_precision: 0.7435 - val_loss: 0.2852 - val_average_precision: 0.1320 - lr: 0.0010\n",
      "Epoch 15/50\n",
      "159/159 [==============================] - 3s 20ms/step - loss: 0.4126 - average_precision: 0.7476 - val_loss: 0.2803 - val_average_precision: 0.1406 - lr: 0.0010\n",
      "Epoch 16/50\n",
      "159/159 [==============================] - 3s 19ms/step - loss: 0.4131 - average_precision: 0.7481 - val_loss: 0.3312 - val_average_precision: 0.1471 - lr: 0.0010\n",
      "Epoch 17/50\n",
      "159/159 [==============================] - 3s 20ms/step - loss: 0.4115 - average_precision: 0.7493 - val_loss: 0.3131 - val_average_precision: 0.1509 - lr: 0.0010\n",
      "Epoch 18/50\n",
      "159/159 [==============================] - 3s 20ms/step - loss: 0.4086 - average_precision: 0.7535 - val_loss: 0.2902 - val_average_precision: 0.1295 - lr: 0.0010\n",
      "Epoch 19/50\n",
      "159/159 [==============================] - 3s 20ms/step - loss: 0.4108 - average_precision: 0.7506 - val_loss: 0.3369 - val_average_precision: 0.1324 - lr: 0.0010\n",
      "Epoch 20/50\n",
      "159/159 [==============================] - 3s 19ms/step - loss: 0.4067 - average_precision: 0.7557 - val_loss: 0.3022 - val_average_precision: 0.1482 - lr: 0.0010\n",
      "Epoch 21/50\n",
      "159/159 [==============================] - 3s 22ms/step - loss: 0.4047 - average_precision: 0.7595 - val_loss: 0.3100 - val_average_precision: 0.1143 - lr: 0.0010\n",
      "Epoch 22/50\n",
      "159/159 [==============================] - 4s 23ms/step - loss: 0.4045 - average_precision: 0.7595 - val_loss: 0.3015 - val_average_precision: 0.1140 - lr: 0.0010\n",
      "Epoch 23/50\n",
      "159/159 [==============================] - 3s 21ms/step - loss: 0.4032 - average_precision: 0.7600 - val_loss: 0.2785 - val_average_precision: 0.1218 - lr: 0.0010\n",
      "Epoch 24/50\n",
      "159/159 [==============================] - 3s 20ms/step - loss: 0.4019 - average_precision: 0.7609 - val_loss: 0.3356 - val_average_precision: 0.1406 - lr: 0.0010\n",
      "Epoch 25/50\n",
      "159/159 [==============================] - 3s 19ms/step - loss: 0.3980 - average_precision: 0.7649 - val_loss: 0.3099 - val_average_precision: 0.1226 - lr: 0.0010\n",
      "Epoch 26/50\n",
      "159/159 [==============================] - 3s 20ms/step - loss: 0.3997 - average_precision: 0.7652 - val_loss: 0.3493 - val_average_precision: 0.1324 - lr: 0.0010\n",
      "Epoch 27/50\n",
      "159/159 [==============================] - 3s 20ms/step - loss: 0.3978 - average_precision: 0.7667 - val_loss: 0.3387 - val_average_precision: 0.1275 - lr: 0.0010\n",
      "Epoch 28/50\n",
      "159/159 [==============================] - 3s 20ms/step - loss: 0.3943 - average_precision: 0.7690 - val_loss: 0.3157 - val_average_precision: 0.1275 - lr: 0.0010\n",
      "Epoch 29/50\n",
      "159/159 [==============================] - 3s 20ms/step - loss: 0.3964 - average_precision: 0.7671 - val_loss: 0.3509 - val_average_precision: 0.1325 - lr: 0.0010\n",
      "Epoch 30/50\n",
      "159/159 [==============================] - 3s 20ms/step - loss: 0.3940 - average_precision: 0.7708 - val_loss: 0.3123 - val_average_precision: 0.1427 - lr: 0.0010\n",
      "Epoch 31/50\n",
      "159/159 [==============================] - 3s 20ms/step - loss: 0.3925 - average_precision: 0.7716 - val_loss: 0.2777 - val_average_precision: 0.1342 - lr: 0.0010\n",
      "Epoch 32/50\n",
      "159/159 [==============================] - 3s 20ms/step - loss: 0.3947 - average_precision: 0.7696 - val_loss: 0.3199 - val_average_precision: 0.1356 - lr: 0.0010\n",
      "Epoch 33/50\n",
      "159/159 [==============================] - 3s 20ms/step - loss: 0.3904 - average_precision: 0.7736 - val_loss: 0.2962 - val_average_precision: 0.1397 - lr: 0.0010\n",
      "Epoch 34/50\n",
      "159/159 [==============================] - 3s 20ms/step - loss: 0.3893 - average_precision: 0.7763 - val_loss: 0.3322 - val_average_precision: 0.1270 - lr: 0.0010\n",
      "Epoch 35/50\n",
      "159/159 [==============================] - 3s 20ms/step - loss: 0.3887 - average_precision: 0.7749 - val_loss: 0.3148 - val_average_precision: 0.1291 - lr: 0.0010\n",
      "Epoch 36/50\n",
      "159/159 [==============================] - 3s 20ms/step - loss: 0.3891 - average_precision: 0.7748 - val_loss: 0.3543 - val_average_precision: 0.1195 - lr: 0.0010\n",
      "Epoch 37/50\n",
      "159/159 [==============================] - 3s 20ms/step - loss: 0.3888 - average_precision: 0.7744 - val_loss: 0.3280 - val_average_precision: 0.1240 - lr: 0.0010\n",
      "Epoch 38/50\n",
      "159/159 [==============================] - 3s 20ms/step - loss: 0.3869 - average_precision: 0.7785 - val_loss: 0.3595 - val_average_precision: 0.1226 - lr: 0.0010\n",
      "Epoch 39/50\n",
      "159/159 [==============================] - 3s 16ms/step - loss: 0.3888 - average_precision: 0.7762 - val_loss: 0.3326 - val_average_precision: 0.1368 - lr: 0.0010\n",
      "Epoch 40/50\n",
      "159/159 [==============================] - 2s 12ms/step - loss: 0.3847 - average_precision: 0.7808 - val_loss: 0.3482 - val_average_precision: 0.1386 - lr: 0.0010\n",
      "Epoch 41/50\n",
      "159/159 [==============================] - 2s 13ms/step - loss: 0.3835 - average_precision: 0.7811 - val_loss: 0.3864 - val_average_precision: 0.1403 - lr: 0.0010\n",
      "Epoch 42/50\n",
      "159/159 [==============================] - 2s 12ms/step - loss: 0.3858 - average_precision: 0.7797 - val_loss: 0.3635 - val_average_precision: 0.1431 - lr: 0.0010\n",
      "Epoch 43/50\n",
      "159/159 [==============================] - 4s 23ms/step - loss: 0.3836 - average_precision: 0.7817 - val_loss: 0.3076 - val_average_precision: 0.1395 - lr: 0.0010\n",
      "Epoch 44/50\n",
      "159/159 [==============================] - 2s 12ms/step - loss: 0.3813 - average_precision: 0.7846 - val_loss: 0.2986 - val_average_precision: 0.1274 - lr: 0.0010\n",
      "Epoch 45/50\n",
      "159/159 [==============================] - 2s 12ms/step - loss: 0.3832 - average_precision: 0.7830 - val_loss: 0.3502 - val_average_precision: 0.1473 - lr: 0.0010\n",
      "Epoch 46/50\n",
      "159/159 [==============================] - 2s 12ms/step - loss: 0.3828 - average_precision: 0.7831 - val_loss: 0.2912 - val_average_precision: 0.1328 - lr: 0.0010\n",
      "Epoch 47/50\n",
      "159/159 [==============================] - 2s 12ms/step - loss: 0.3808 - average_precision: 0.7853 - val_loss: 0.2925 - val_average_precision: 0.1224 - lr: 0.0010\n",
      "Epoch 48/50\n",
      "159/159 [==============================] - 2s 14ms/step - loss: 0.3786 - average_precision: 0.7869 - val_loss: 0.3065 - val_average_precision: 0.1368 - lr: 0.0010\n",
      "Epoch 49/50\n",
      "159/159 [==============================] - 2s 12ms/step - loss: 0.3769 - average_precision: 0.7883 - val_loss: 0.3214 - val_average_precision: 0.1472 - lr: 0.0010\n",
      "Epoch 50/50\n",
      "159/159 [==============================] - 2s 12ms/step - loss: 0.3794 - average_precision: 0.7863 - val_loss: 0.3304 - val_average_precision: 0.1307 - lr: 0.0010\n"
     ]
    }
   ],
   "source": [
    "history1 = model.fit(training_input,training_output,batch_size=600,epochs=50,\n",
    "                    shuffle=True,callbacks=my_lr_scheduler,validation_data=(val_input,val_output))\n"
   ]
  },
  {
   "cell_type": "code",
   "execution_count": 14,
   "metadata": {},
   "outputs": [
    {
     "data": {
      "image/png": "[encoded data removed]",
      "text/plain": [
       "<Figure size 1200x600 with 2 Axes>"
      ]
     },
     "metadata": {},
     "output_type": "display_data"
    }
   ],
   "source": [
    "# Visualization of the model\n",
    "\n",
    "import matplotlib.pyplot as plt\n",
    "\n",
    "# plot fonction perte\n",
    "\n",
    "loss=history1.history['loss']\n",
    "\n",
    "val_loss = history1.history['val_loss']\n",
    "epochs = range(1,len(loss)+1)\n",
    "\n",
    "plt.figure(figsize=(12,6))\n",
    "\n",
    "\n",
    "plt.subplot(1,2,1)\n",
    "plt.plot(epochs, loss, 'bo', label = 'Entrainement')\n",
    "plt.plot(epochs, val_loss, 'b', label='Validation')\n",
    "plt.title('Perte pendant l\\'entrainement et la validation')\n",
    "plt.xlabel('Nombre d\\'époques')\n",
    "plt.ylabel('Loss')\n",
    "plt.legend()\n",
    "\n",
    "# plot precision du model\n",
    "\n",
    "avp = history1.history['average_precision']\n",
    "val_avp = history1.history['val_average_precision']\n",
    "\n",
    "plt.subplot(1,2,2)\n",
    "plt.plot(epochs,avp,'bo',label='Entrainement')\n",
    "plt.plot(epochs, val_avp, 'b', label='Validation')\n",
    "plt.title('Average Précision pendant l\\'entrainement et la validation')\n",
    "plt.xlabel('Nombre d\\'époques')\n",
    "plt.ylabel('Average Precision')\n",
    "plt.legend()\n",
    "plt.savefig('loss_accuracy_model.jpg')\n",
    "plt.show()"
   ]
  },
  {
   "cell_type": "code",
   "execution_count": 15,
   "metadata": {},
   "outputs": [
    {
     "name": "stdout",
     "output_type": "stream",
     "text": [
      "290/290 [==============================] - 0s 813us/step\n",
      "There are  1516  labels (1) predicted\n",
      "There are  122  labels (1) in the reality\n",
      "Neural Network PR-AUC =  0.09709237089341946\n"
     ]
    }
   ],
   "source": [
    "# Validation of model performance with new data\n",
    "\n",
    "y_pred = model.predict(test_input)\n",
    "\n",
    "counter_p = len([valor for valor in y_pred if valor > 0.5])\n",
    "counter_r = len([valor_r for valor_r in test_output if valor_r > 0.5])\n",
    "print('There are ',counter_p, ' labels (1) predicted')\n",
    "print('There are ',counter_r, ' labels (1) in the reality')\n",
    "\n",
    "print('Neural Network PR-AUC = ',average_precision_score(test_output,y_pred))"
   ]
  },
  {
   "cell_type": "markdown",
   "metadata": {},
   "source": [
    "Training with all the data"
   ]
  },
  {
   "cell_type": "code",
   "execution_count": null,
   "metadata": {},
   "outputs": [],
   "source": [
    "training_input = np.vstack((training_input,val_input))\n",
    "training_output = np.vstack((training_output,val_output))"
   ]
  },
  {
   "cell_type": "code",
   "execution_count": null,
   "metadata": {},
   "outputs": [],
   "source": [
    "history1 = model.fit(training_input,training_output,batch_size=600,epochs=50,\n",
    "                    shuffle=True,callbacks=my_lr_scheduler)"
   ]
  },
  {
   "cell_type": "markdown",
   "metadata": {},
   "source": [
    "TRATMENT OF THE TEST DATA"
   ]
  },
  {
   "cell_type": "code",
   "execution_count": null,
   "metadata": {},
   "outputs": [],
   "source": [
    "test_Dataframe = pd.read_csv('/content/drive/MyDrive/Colab Notebooks/Challenge_data_BNP/X_test_8skS2ey.csv')\n",
    "test = test_Dataframe.copy()\n",
    "\n",
    "# Loop for that assign a each unique categorical value a number and after it reeplace the categorical value for this number\n",
    "\n",
    "for count_1 in range(0,4):\n",
    "\n",
    "    # dictionary\n",
    "    dic_map_1 = list_dic_map[count_1]\n",
    "\n",
    "    # Replace the values in dataframe\n",
    "\n",
    "    for colob_1 in range(0,24):\n",
    "        test[list_col_object[colob_1+count_1*24]] = test[list_col_object[colob_1+count_1*24]].map(dic_map_1)"
   ]
  },
  {
   "cell_type": "code",
   "execution_count": null,
   "metadata": {},
   "outputs": [],
   "source": [
    "# Reemplace the 0 in the converted columns to his true value NaN\n",
    "test[list_col_object] = test[list_col_object].replace(0,np.nan)\n",
    "\n",
    "# we put out the columns that not contribute to the prediction\n",
    "test = test.drop('ID',axis=1)"
   ]
  },
  {
   "cell_type": "code",
   "execution_count": null,
   "metadata": {},
   "outputs": [],
   "source": [
    "dataX = np.array(test)\n",
    "\n",
    "print(dataX.shape)\n",
    "\n",
    "print(np.sum(np.isnan(dataX)))"
   ]
  },
  {
   "cell_type": "code",
   "execution_count": null,
   "metadata": {},
   "outputs": [],
   "source": [
    "# Remplace the NaN values\n",
    "\n",
    "constant_imputer = SimpleImputer(strategy='constant')\n",
    "dataX_imp = constant_imputer.fit_transform(dataX)\n",
    "\n",
    "# normalizacion\n",
    "\n",
    "scaler = MinMaxScaler(feature_range=(0, 1))\n",
    "dataX_test = scaler.fit_transform(dataX_imp)"
   ]
  },
  {
   "cell_type": "markdown",
   "metadata": {},
   "source": [
    "PREDICTION AND GENERATION OF THE Y TEST"
   ]
  },
  {
   "cell_type": "code",
   "execution_count": null,
   "metadata": {},
   "outputs": [],
   "source": [
    "# Prediction\n",
    "\n",
    "y_pred = model.predict(dataX_test)\n",
    "\n",
    "counter_p = len([valor for valor in y_pred if valor > 0.5])\n",
    "print('There are ',counter_p, ' labels (1) predicted')\n",
    "\n",
    "Y_test = pd.DataFrame(np.column_stack([test_Dataframe['ID'],y_pred]),columns=['ID','fraud_flag'])\n",
    "Y_test.to_csv('Y_test.csv', index=True,index_label='index')\n",
    "print(y_pred)"
   ]
  }
 ],
 "metadata": {
  "kernelspec": {
   "display_name": "Python 3",
   "language": "python",
   "name": "python3"
  },
  "language_info": {
   "codemirror_mode": {
    "name": "ipython",
    "version": 3
   },
   "file_extension": ".py",
   "mimetype": "text/x-python",
   "name": "python",
   "nbconvert_exporter": "python",
   "pygments_lexer": "ipython3",
   "version": "3.10.11"
  }
 },
 "nbformat": 4,
 "nbformat_minor": 2
}
